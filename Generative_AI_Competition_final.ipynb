{
 "cells": [
  {
   "cell_type": "markdown",
   "metadata": {
    "id": "PrXmOTv4N9YB"
   },
   "source": [
    "# Generative AI Competition"
   ]
  },
  {
   "cell_type": "markdown",
   "metadata": {
    "id": "pcsu46UiOfe2"
   },
   "source": [
    "## Preparations"
   ]
  },
  {
   "cell_type": "code",
   "execution_count": 4,
   "metadata": {
    "colab": {
     "base_uri": "https://localhost:8080/"
    },
    "id": "tis1l6zQN8xl",
    "outputId": "8b19fc47-2cc0-4f86-d1be-9bcfe0238601"
   },
   "outputs": [
    {
     "name": "stdout",
     "output_type": "stream",
     "text": [
      "Mounted at /content/drive\n"
     ]
    }
   ],
   "source": [
    "from google.colab import drive\n",
    "drive.mount('/content/drive')"
   ]
  },
  {
   "cell_type": "code",
   "execution_count": null,
   "metadata": {
    "id": "KPr6R6-mOrFK"
   },
   "outputs": [],
   "source": [
    "import torch\n",
    "gpu = torch.Tensor([1]).cuda()\n",
    "print(gpu)\n",
    "torch.cuda.is_available()"
   ]
  },
  {
   "cell_type": "code",
   "execution_count": null,
   "metadata": {
    "id": "RTAQi9U_PSuE"
   },
   "outputs": [],
   "source": [
    "!nvidia-smi"
   ]
  },
  {
   "cell_type": "markdown",
   "metadata": {
    "id": "pxbTCNV-O1oC"
   },
   "source": [
    "## Description"
   ]
  },
  {
   "cell_type": "code",
   "execution_count": 46,
   "metadata": {
    "colab": {
     "base_uri": "https://localhost:8080/",
     "height": 300
    },
    "id": "XFu0kY4vO3Yf",
    "outputId": "84cbde90-7143-4f5f-b87b-dcce367197f1"
   },
   "outputs": [
    {
     "data": {
      "text/html": [
       "\n",
       "  <div id=\"df-d11c7911-141b-437a-a4f1-d51d2139a283\">\n",
       "    <div class=\"colab-df-container\">\n",
       "      <div>\n",
       "<style scoped>\n",
       "    .dataframe tbody tr th:only-of-type {\n",
       "        vertical-align: middle;\n",
       "    }\n",
       "\n",
       "    .dataframe tbody tr th {\n",
       "        vertical-align: top;\n",
       "    }\n",
       "\n",
       "    .dataframe thead th {\n",
       "        text-align: right;\n",
       "    }\n",
       "</style>\n",
       "<table border=\"1\" class=\"dataframe\">\n",
       "  <thead>\n",
       "    <tr style=\"text-align: right;\">\n",
       "      <th></th>\n",
       "      <th>labels</th>\n",
       "      <th>f_0</th>\n",
       "      <th>f_1</th>\n",
       "      <th>f_2</th>\n",
       "      <th>f_3</th>\n",
       "      <th>f_4</th>\n",
       "      <th>f_5</th>\n",
       "      <th>f_6</th>\n",
       "      <th>f_7</th>\n",
       "      <th>f_8</th>\n",
       "      <th>...</th>\n",
       "      <th>f_1190</th>\n",
       "      <th>f_1191</th>\n",
       "      <th>f_1192</th>\n",
       "      <th>f_1193</th>\n",
       "      <th>f_1194</th>\n",
       "      <th>f_1195</th>\n",
       "      <th>f_1196</th>\n",
       "      <th>f_1197</th>\n",
       "      <th>f_1198</th>\n",
       "      <th>f_1199</th>\n",
       "    </tr>\n",
       "  </thead>\n",
       "  <tbody>\n",
       "    <tr>\n",
       "      <th>0</th>\n",
       "      <td>0</td>\n",
       "      <td>-2.033875</td>\n",
       "      <td>0.978446</td>\n",
       "      <td>-0.142131</td>\n",
       "      <td>-0.177117</td>\n",
       "      <td>-1.470684</td>\n",
       "      <td>1.669562</td>\n",
       "      <td>-0.196530</td>\n",
       "      <td>-0.125239</td>\n",
       "      <td>-0.452284</td>\n",
       "      <td>...</td>\n",
       "      <td>-1.111266</td>\n",
       "      <td>0.716084</td>\n",
       "      <td>0.060039</td>\n",
       "      <td>0.301279</td>\n",
       "      <td>-1.174846</td>\n",
       "      <td>-1.076498</td>\n",
       "      <td>-0.069452</td>\n",
       "      <td>-0.604012</td>\n",
       "      <td>-2.179176</td>\n",
       "      <td>0.558003</td>\n",
       "    </tr>\n",
       "    <tr>\n",
       "      <th>1</th>\n",
       "      <td>1</td>\n",
       "      <td>-0.348835</td>\n",
       "      <td>0.294815</td>\n",
       "      <td>-0.557577</td>\n",
       "      <td>-2.020773</td>\n",
       "      <td>-1.234715</td>\n",
       "      <td>1.633930</td>\n",
       "      <td>-1.680658</td>\n",
       "      <td>-0.358146</td>\n",
       "      <td>0.166122</td>\n",
       "      <td>...</td>\n",
       "      <td>0.735240</td>\n",
       "      <td>0.829781</td>\n",
       "      <td>1.521941</td>\n",
       "      <td>1.347946</td>\n",
       "      <td>0.754505</td>\n",
       "      <td>1.330642</td>\n",
       "      <td>-0.754453</td>\n",
       "      <td>0.582956</td>\n",
       "      <td>0.252671</td>\n",
       "      <td>1.495870</td>\n",
       "    </tr>\n",
       "    <tr>\n",
       "      <th>2</th>\n",
       "      <td>1</td>\n",
       "      <td>0.113248</td>\n",
       "      <td>-0.607726</td>\n",
       "      <td>-0.947791</td>\n",
       "      <td>0.830851</td>\n",
       "      <td>0.998291</td>\n",
       "      <td>0.498321</td>\n",
       "      <td>-1.493958</td>\n",
       "      <td>0.789572</td>\n",
       "      <td>-1.311018</td>\n",
       "      <td>...</td>\n",
       "      <td>0.104698</td>\n",
       "      <td>0.616189</td>\n",
       "      <td>-1.035953</td>\n",
       "      <td>2.111387</td>\n",
       "      <td>-0.984415</td>\n",
       "      <td>1.148076</td>\n",
       "      <td>-1.433554</td>\n",
       "      <td>0.243372</td>\n",
       "      <td>0.170083</td>\n",
       "      <td>1.274795</td>\n",
       "    </tr>\n",
       "    <tr>\n",
       "      <th>3</th>\n",
       "      <td>0</td>\n",
       "      <td>1.223321</td>\n",
       "      <td>-0.479048</td>\n",
       "      <td>-1.925789</td>\n",
       "      <td>1.680377</td>\n",
       "      <td>0.021840</td>\n",
       "      <td>-1.453307</td>\n",
       "      <td>0.605559</td>\n",
       "      <td>-0.019024</td>\n",
       "      <td>1.065448</td>\n",
       "      <td>...</td>\n",
       "      <td>0.360237</td>\n",
       "      <td>-1.957863</td>\n",
       "      <td>-0.123384</td>\n",
       "      <td>1.505329</td>\n",
       "      <td>0.660290</td>\n",
       "      <td>-1.769443</td>\n",
       "      <td>-0.547756</td>\n",
       "      <td>-0.568122</td>\n",
       "      <td>0.244645</td>\n",
       "      <td>0.982116</td>\n",
       "    </tr>\n",
       "    <tr>\n",
       "      <th>4</th>\n",
       "      <td>0</td>\n",
       "      <td>0.160109</td>\n",
       "      <td>0.422684</td>\n",
       "      <td>-0.308029</td>\n",
       "      <td>0.227744</td>\n",
       "      <td>0.432854</td>\n",
       "      <td>0.608348</td>\n",
       "      <td>0.193832</td>\n",
       "      <td>1.035091</td>\n",
       "      <td>-0.538868</td>\n",
       "      <td>...</td>\n",
       "      <td>0.416629</td>\n",
       "      <td>1.441766</td>\n",
       "      <td>0.212572</td>\n",
       "      <td>-0.994721</td>\n",
       "      <td>1.143999</td>\n",
       "      <td>-2.166923</td>\n",
       "      <td>-1.199248</td>\n",
       "      <td>-1.028636</td>\n",
       "      <td>0.752791</td>\n",
       "      <td>0.317169</td>\n",
       "    </tr>\n",
       "  </tbody>\n",
       "</table>\n",
       "<p>5 rows × 1201 columns</p>\n",
       "</div>\n",
       "      <button class=\"colab-df-convert\" onclick=\"convertToInteractive('df-d11c7911-141b-437a-a4f1-d51d2139a283')\"\n",
       "              title=\"Convert this dataframe to an interactive table.\"\n",
       "              style=\"display:none;\">\n",
       "        \n",
       "  <svg xmlns=\"http://www.w3.org/2000/svg\" height=\"24px\"viewBox=\"0 0 24 24\"\n",
       "       width=\"24px\">\n",
       "    <path d=\"M0 0h24v24H0V0z\" fill=\"none\"/>\n",
       "    <path d=\"M18.56 5.44l.94 2.06.94-2.06 2.06-.94-2.06-.94-.94-2.06-.94 2.06-2.06.94zm-11 1L8.5 8.5l.94-2.06 2.06-.94-2.06-.94L8.5 2.5l-.94 2.06-2.06.94zm10 10l.94 2.06.94-2.06 2.06-.94-2.06-.94-.94-2.06-.94 2.06-2.06.94z\"/><path d=\"M17.41 7.96l-1.37-1.37c-.4-.4-.92-.59-1.43-.59-.52 0-1.04.2-1.43.59L10.3 9.45l-7.72 7.72c-.78.78-.78 2.05 0 2.83L4 21.41c.39.39.9.59 1.41.59.51 0 1.02-.2 1.41-.59l7.78-7.78 2.81-2.81c.8-.78.8-2.07 0-2.86zM5.41 20L4 18.59l7.72-7.72 1.47 1.35L5.41 20z\"/>\n",
       "  </svg>\n",
       "      </button>\n",
       "      \n",
       "  <style>\n",
       "    .colab-df-container {\n",
       "      display:flex;\n",
       "      flex-wrap:wrap;\n",
       "      gap: 12px;\n",
       "    }\n",
       "\n",
       "    .colab-df-convert {\n",
       "      background-color: #E8F0FE;\n",
       "      border: none;\n",
       "      border-radius: 50%;\n",
       "      cursor: pointer;\n",
       "      display: none;\n",
       "      fill: #1967D2;\n",
       "      height: 32px;\n",
       "      padding: 0 0 0 0;\n",
       "      width: 32px;\n",
       "    }\n",
       "\n",
       "    .colab-df-convert:hover {\n",
       "      background-color: #E2EBFA;\n",
       "      box-shadow: 0px 1px 2px rgba(60, 64, 67, 0.3), 0px 1px 3px 1px rgba(60, 64, 67, 0.15);\n",
       "      fill: #174EA6;\n",
       "    }\n",
       "\n",
       "    [theme=dark] .colab-df-convert {\n",
       "      background-color: #3B4455;\n",
       "      fill: #D2E3FC;\n",
       "    }\n",
       "\n",
       "    [theme=dark] .colab-df-convert:hover {\n",
       "      background-color: #434B5C;\n",
       "      box-shadow: 0px 1px 3px 1px rgba(0, 0, 0, 0.15);\n",
       "      filter: drop-shadow(0px 1px 2px rgba(0, 0, 0, 0.3));\n",
       "      fill: #FFFFFF;\n",
       "    }\n",
       "  </style>\n",
       "\n",
       "      <script>\n",
       "        const buttonEl =\n",
       "          document.querySelector('#df-d11c7911-141b-437a-a4f1-d51d2139a283 button.colab-df-convert');\n",
       "        buttonEl.style.display =\n",
       "          google.colab.kernel.accessAllowed ? 'block' : 'none';\n",
       "\n",
       "        async function convertToInteractive(key) {\n",
       "          const element = document.querySelector('#df-d11c7911-141b-437a-a4f1-d51d2139a283');\n",
       "          const dataTable =\n",
       "            await google.colab.kernel.invokeFunction('convertToInteractive',\n",
       "                                                     [key], {});\n",
       "          if (!dataTable) return;\n",
       "\n",
       "          const docLinkHtml = 'Like what you see? Visit the ' +\n",
       "            '<a target=\"_blank\" href=https://colab.research.google.com/notebooks/data_table.ipynb>data table notebook</a>'\n",
       "            + ' to learn more about interactive tables.';\n",
       "          element.innerHTML = '';\n",
       "          dataTable['output_type'] = 'display_data';\n",
       "          await google.colab.output.renderOutput(dataTable, element);\n",
       "          const docLink = document.createElement('div');\n",
       "          docLink.innerHTML = docLinkHtml;\n",
       "          element.appendChild(docLink);\n",
       "        }\n",
       "      </script>\n",
       "    </div>\n",
       "  </div>\n",
       "  "
      ],
      "text/plain": [
       "   labels       f_0       f_1       f_2       f_3       f_4       f_5  \\\n",
       "0       0 -2.033875  0.978446 -0.142131 -0.177117 -1.470684  1.669562   \n",
       "1       1 -0.348835  0.294815 -0.557577 -2.020773 -1.234715  1.633930   \n",
       "2       1  0.113248 -0.607726 -0.947791  0.830851  0.998291  0.498321   \n",
       "3       0  1.223321 -0.479048 -1.925789  1.680377  0.021840 -1.453307   \n",
       "4       0  0.160109  0.422684 -0.308029  0.227744  0.432854  0.608348   \n",
       "\n",
       "        f_6       f_7       f_8  ...    f_1190    f_1191    f_1192    f_1193  \\\n",
       "0 -0.196530 -0.125239 -0.452284  ... -1.111266  0.716084  0.060039  0.301279   \n",
       "1 -1.680658 -0.358146  0.166122  ...  0.735240  0.829781  1.521941  1.347946   \n",
       "2 -1.493958  0.789572 -1.311018  ...  0.104698  0.616189 -1.035953  2.111387   \n",
       "3  0.605559 -0.019024  1.065448  ...  0.360237 -1.957863 -0.123384  1.505329   \n",
       "4  0.193832  1.035091 -0.538868  ...  0.416629  1.441766  0.212572 -0.994721   \n",
       "\n",
       "     f_1194    f_1195    f_1196    f_1197    f_1198    f_1199  \n",
       "0 -1.174846 -1.076498 -0.069452 -0.604012 -2.179176  0.558003  \n",
       "1  0.754505  1.330642 -0.754453  0.582956  0.252671  1.495870  \n",
       "2 -0.984415  1.148076 -1.433554  0.243372  0.170083  1.274795  \n",
       "3  0.660290 -1.769443 -0.547756 -0.568122  0.244645  0.982116  \n",
       "4  1.143999 -2.166923 -1.199248 -1.028636  0.752791  0.317169  \n",
       "\n",
       "[5 rows x 1201 columns]"
      ]
     },
     "execution_count": 46,
     "metadata": {},
     "output_type": "execute_result"
    }
   ],
   "source": [
    "# load dataset\n",
    "import pandas as pd\n",
    "file_path = '/content/drive/MyDrive/523_competition/Dataset/train.csv'\n",
    "df = pd.read_csv(file_path)\n",
    "df.head(5)"
   ]
  },
  {
   "cell_type": "code",
   "execution_count": null,
   "metadata": {
    "id": "a_KQT3OsQJwE"
   },
   "outputs": [],
   "source": [
    "df_labels_fake = df[df.labels==0]\n",
    "df_labels_real = df[df.labels==1]"
   ]
  },
  {
   "cell_type": "code",
   "execution_count": null,
   "metadata": {
    "colab": {
     "base_uri": "https://localhost:8080/",
     "height": 394
    },
    "id": "L1k_uYuNQLmO",
    "outputId": "94be9896-cae4-4062-b34c-6ebb35c61263"
   },
   "outputs": [
    {
     "data": {
      "text/html": [
       "\n",
       "  <div id=\"df-79d9a39b-64dd-4dc8-807d-92d508a7aafc\">\n",
       "    <div class=\"colab-df-container\">\n",
       "      <div>\n",
       "<style scoped>\n",
       "    .dataframe tbody tr th:only-of-type {\n",
       "        vertical-align: middle;\n",
       "    }\n",
       "\n",
       "    .dataframe tbody tr th {\n",
       "        vertical-align: top;\n",
       "    }\n",
       "\n",
       "    .dataframe thead th {\n",
       "        text-align: right;\n",
       "    }\n",
       "</style>\n",
       "<table border=\"1\" class=\"dataframe\">\n",
       "  <thead>\n",
       "    <tr style=\"text-align: right;\">\n",
       "      <th></th>\n",
       "      <th>labels</th>\n",
       "      <th>f_0</th>\n",
       "      <th>f_1</th>\n",
       "      <th>f_2</th>\n",
       "      <th>f_3</th>\n",
       "      <th>f_4</th>\n",
       "      <th>f_5</th>\n",
       "      <th>f_6</th>\n",
       "      <th>f_7</th>\n",
       "      <th>f_8</th>\n",
       "      <th>...</th>\n",
       "      <th>f_1190</th>\n",
       "      <th>f_1191</th>\n",
       "      <th>f_1192</th>\n",
       "      <th>f_1193</th>\n",
       "      <th>f_1194</th>\n",
       "      <th>f_1195</th>\n",
       "      <th>f_1196</th>\n",
       "      <th>f_1197</th>\n",
       "      <th>f_1198</th>\n",
       "      <th>f_1199</th>\n",
       "    </tr>\n",
       "  </thead>\n",
       "  <tbody>\n",
       "    <tr>\n",
       "      <th>count</th>\n",
       "      <td>3850.0</td>\n",
       "      <td>3850.000000</td>\n",
       "      <td>3850.000000</td>\n",
       "      <td>3850.000000</td>\n",
       "      <td>3850.000000</td>\n",
       "      <td>3850.000000</td>\n",
       "      <td>3850.000000</td>\n",
       "      <td>3850.000000</td>\n",
       "      <td>3850.000000</td>\n",
       "      <td>3850.000000</td>\n",
       "      <td>...</td>\n",
       "      <td>3850.000000</td>\n",
       "      <td>3850.000000</td>\n",
       "      <td>3850.000000</td>\n",
       "      <td>3850.000000</td>\n",
       "      <td>3850.000000</td>\n",
       "      <td>3850.000000</td>\n",
       "      <td>3850.000000</td>\n",
       "      <td>3850.000000</td>\n",
       "      <td>3850.000000</td>\n",
       "      <td>3850.000000</td>\n",
       "    </tr>\n",
       "    <tr>\n",
       "      <th>mean</th>\n",
       "      <td>0.0</td>\n",
       "      <td>0.502053</td>\n",
       "      <td>-0.030477</td>\n",
       "      <td>0.443031</td>\n",
       "      <td>0.537757</td>\n",
       "      <td>0.205177</td>\n",
       "      <td>0.117557</td>\n",
       "      <td>-0.187478</td>\n",
       "      <td>-0.184756</td>\n",
       "      <td>-0.158397</td>\n",
       "      <td>...</td>\n",
       "      <td>0.554650</td>\n",
       "      <td>-0.417062</td>\n",
       "      <td>0.062412</td>\n",
       "      <td>-0.268750</td>\n",
       "      <td>-0.107413</td>\n",
       "      <td>-0.313844</td>\n",
       "      <td>-0.188299</td>\n",
       "      <td>0.489204</td>\n",
       "      <td>-0.258141</td>\n",
       "      <td>-0.075701</td>\n",
       "    </tr>\n",
       "    <tr>\n",
       "      <th>std</th>\n",
       "      <td>0.0</td>\n",
       "      <td>0.938144</td>\n",
       "      <td>0.818172</td>\n",
       "      <td>0.985069</td>\n",
       "      <td>0.961128</td>\n",
       "      <td>0.959540</td>\n",
       "      <td>0.833402</td>\n",
       "      <td>1.030615</td>\n",
       "      <td>0.829810</td>\n",
       "      <td>1.001650</td>\n",
       "      <td>...</td>\n",
       "      <td>0.945503</td>\n",
       "      <td>1.035183</td>\n",
       "      <td>0.918475</td>\n",
       "      <td>0.962270</td>\n",
       "      <td>1.035620</td>\n",
       "      <td>0.953724</td>\n",
       "      <td>0.846435</td>\n",
       "      <td>0.961586</td>\n",
       "      <td>0.998810</td>\n",
       "      <td>0.828229</td>\n",
       "    </tr>\n",
       "    <tr>\n",
       "      <th>min</th>\n",
       "      <td>0.0</td>\n",
       "      <td>-3.456462</td>\n",
       "      <td>-3.605773</td>\n",
       "      <td>-4.078232</td>\n",
       "      <td>-3.344323</td>\n",
       "      <td>-3.613712</td>\n",
       "      <td>-3.319666</td>\n",
       "      <td>-3.627701</td>\n",
       "      <td>-3.528635</td>\n",
       "      <td>-4.503662</td>\n",
       "      <td>...</td>\n",
       "      <td>-3.684054</td>\n",
       "      <td>-3.385650</td>\n",
       "      <td>-3.162629</td>\n",
       "      <td>-3.022903</td>\n",
       "      <td>-3.357147</td>\n",
       "      <td>-4.791005</td>\n",
       "      <td>-3.356509</td>\n",
       "      <td>-3.933762</td>\n",
       "      <td>-4.174752</td>\n",
       "      <td>-3.618622</td>\n",
       "    </tr>\n",
       "    <tr>\n",
       "      <th>25%</th>\n",
       "      <td>0.0</td>\n",
       "      <td>-0.149282</td>\n",
       "      <td>-0.506289</td>\n",
       "      <td>-0.236340</td>\n",
       "      <td>-0.140414</td>\n",
       "      <td>-0.487336</td>\n",
       "      <td>-0.385564</td>\n",
       "      <td>-1.041811</td>\n",
       "      <td>-0.721281</td>\n",
       "      <td>-0.998972</td>\n",
       "      <td>...</td>\n",
       "      <td>-0.053651</td>\n",
       "      <td>-1.263328</td>\n",
       "      <td>-0.594758</td>\n",
       "      <td>-1.016095</td>\n",
       "      <td>-1.007004</td>\n",
       "      <td>-0.943706</td>\n",
       "      <td>-0.715001</td>\n",
       "      <td>-0.182125</td>\n",
       "      <td>-1.086697</td>\n",
       "      <td>-0.588205</td>\n",
       "    </tr>\n",
       "    <tr>\n",
       "      <th>50%</th>\n",
       "      <td>0.0</td>\n",
       "      <td>0.883475</td>\n",
       "      <td>-0.015724</td>\n",
       "      <td>0.867160</td>\n",
       "      <td>0.932438</td>\n",
       "      <td>0.344353</td>\n",
       "      <td>0.216695</td>\n",
       "      <td>-0.222315</td>\n",
       "      <td>-0.239900</td>\n",
       "      <td>-0.116996</td>\n",
       "      <td>...</td>\n",
       "      <td>0.937109</td>\n",
       "      <td>-0.515049</td>\n",
       "      <td>0.174416</td>\n",
       "      <td>-0.292924</td>\n",
       "      <td>-0.067019</td>\n",
       "      <td>-0.327877</td>\n",
       "      <td>-0.226964</td>\n",
       "      <td>0.904574</td>\n",
       "      <td>-0.281546</td>\n",
       "      <td>-0.067258</td>\n",
       "    </tr>\n",
       "    <tr>\n",
       "      <th>75%</th>\n",
       "      <td>0.0</td>\n",
       "      <td>1.165988</td>\n",
       "      <td>0.447057</td>\n",
       "      <td>1.142597</td>\n",
       "      <td>1.206613</td>\n",
       "      <td>1.021624</td>\n",
       "      <td>0.656654</td>\n",
       "      <td>0.706668</td>\n",
       "      <td>0.255553</td>\n",
       "      <td>0.678515</td>\n",
       "      <td>...</td>\n",
       "      <td>1.200452</td>\n",
       "      <td>0.332425</td>\n",
       "      <td>0.729584</td>\n",
       "      <td>0.391029</td>\n",
       "      <td>0.793604</td>\n",
       "      <td>0.271970</td>\n",
       "      <td>0.257808</td>\n",
       "      <td>1.166320</td>\n",
       "      <td>0.520457</td>\n",
       "      <td>0.384528</td>\n",
       "    </tr>\n",
       "    <tr>\n",
       "      <th>max</th>\n",
       "      <td>0.0</td>\n",
       "      <td>3.439295</td>\n",
       "      <td>3.581171</td>\n",
       "      <td>3.279503</td>\n",
       "      <td>3.900672</td>\n",
       "      <td>3.488667</td>\n",
       "      <td>3.193113</td>\n",
       "      <td>3.062756</td>\n",
       "      <td>3.692669</td>\n",
       "      <td>3.017000</td>\n",
       "      <td>...</td>\n",
       "      <td>4.077517</td>\n",
       "      <td>3.550058</td>\n",
       "      <td>3.550058</td>\n",
       "      <td>3.907684</td>\n",
       "      <td>3.777545</td>\n",
       "      <td>3.269490</td>\n",
       "      <td>3.526907</td>\n",
       "      <td>3.157554</td>\n",
       "      <td>3.335078</td>\n",
       "      <td>3.161221</td>\n",
       "    </tr>\n",
       "  </tbody>\n",
       "</table>\n",
       "<p>8 rows × 1201 columns</p>\n",
       "</div>\n",
       "      <button class=\"colab-df-convert\" onclick=\"convertToInteractive('df-79d9a39b-64dd-4dc8-807d-92d508a7aafc')\"\n",
       "              title=\"Convert this dataframe to an interactive table.\"\n",
       "              style=\"display:none;\">\n",
       "        \n",
       "  <svg xmlns=\"http://www.w3.org/2000/svg\" height=\"24px\"viewBox=\"0 0 24 24\"\n",
       "       width=\"24px\">\n",
       "    <path d=\"M0 0h24v24H0V0z\" fill=\"none\"/>\n",
       "    <path d=\"M18.56 5.44l.94 2.06.94-2.06 2.06-.94-2.06-.94-.94-2.06-.94 2.06-2.06.94zm-11 1L8.5 8.5l.94-2.06 2.06-.94-2.06-.94L8.5 2.5l-.94 2.06-2.06.94zm10 10l.94 2.06.94-2.06 2.06-.94-2.06-.94-.94-2.06-.94 2.06-2.06.94z\"/><path d=\"M17.41 7.96l-1.37-1.37c-.4-.4-.92-.59-1.43-.59-.52 0-1.04.2-1.43.59L10.3 9.45l-7.72 7.72c-.78.78-.78 2.05 0 2.83L4 21.41c.39.39.9.59 1.41.59.51 0 1.02-.2 1.41-.59l7.78-7.78 2.81-2.81c.8-.78.8-2.07 0-2.86zM5.41 20L4 18.59l7.72-7.72 1.47 1.35L5.41 20z\"/>\n",
       "  </svg>\n",
       "      </button>\n",
       "      \n",
       "  <style>\n",
       "    .colab-df-container {\n",
       "      display:flex;\n",
       "      flex-wrap:wrap;\n",
       "      gap: 12px;\n",
       "    }\n",
       "\n",
       "    .colab-df-convert {\n",
       "      background-color: #E8F0FE;\n",
       "      border: none;\n",
       "      border-radius: 50%;\n",
       "      cursor: pointer;\n",
       "      display: none;\n",
       "      fill: #1967D2;\n",
       "      height: 32px;\n",
       "      padding: 0 0 0 0;\n",
       "      width: 32px;\n",
       "    }\n",
       "\n",
       "    .colab-df-convert:hover {\n",
       "      background-color: #E2EBFA;\n",
       "      box-shadow: 0px 1px 2px rgba(60, 64, 67, 0.3), 0px 1px 3px 1px rgba(60, 64, 67, 0.15);\n",
       "      fill: #174EA6;\n",
       "    }\n",
       "\n",
       "    [theme=dark] .colab-df-convert {\n",
       "      background-color: #3B4455;\n",
       "      fill: #D2E3FC;\n",
       "    }\n",
       "\n",
       "    [theme=dark] .colab-df-convert:hover {\n",
       "      background-color: #434B5C;\n",
       "      box-shadow: 0px 1px 3px 1px rgba(0, 0, 0, 0.15);\n",
       "      filter: drop-shadow(0px 1px 2px rgba(0, 0, 0, 0.3));\n",
       "      fill: #FFFFFF;\n",
       "    }\n",
       "  </style>\n",
       "\n",
       "      <script>\n",
       "        const buttonEl =\n",
       "          document.querySelector('#df-79d9a39b-64dd-4dc8-807d-92d508a7aafc button.colab-df-convert');\n",
       "        buttonEl.style.display =\n",
       "          google.colab.kernel.accessAllowed ? 'block' : 'none';\n",
       "\n",
       "        async function convertToInteractive(key) {\n",
       "          const element = document.querySelector('#df-79d9a39b-64dd-4dc8-807d-92d508a7aafc');\n",
       "          const dataTable =\n",
       "            await google.colab.kernel.invokeFunction('convertToInteractive',\n",
       "                                                     [key], {});\n",
       "          if (!dataTable) return;\n",
       "\n",
       "          const docLinkHtml = 'Like what you see? Visit the ' +\n",
       "            '<a target=\"_blank\" href=https://colab.research.google.com/notebooks/data_table.ipynb>data table notebook</a>'\n",
       "            + ' to learn more about interactive tables.';\n",
       "          element.innerHTML = '';\n",
       "          dataTable['output_type'] = 'display_data';\n",
       "          await google.colab.output.renderOutput(dataTable, element);\n",
       "          const docLink = document.createElement('div');\n",
       "          docLink.innerHTML = docLinkHtml;\n",
       "          element.appendChild(docLink);\n",
       "        }\n",
       "      </script>\n",
       "    </div>\n",
       "  </div>\n",
       "  "
      ],
      "text/plain": [
       "       labels          f_0          f_1          f_2          f_3  \\\n",
       "count  3850.0  3850.000000  3850.000000  3850.000000  3850.000000   \n",
       "mean      0.0     0.502053    -0.030477     0.443031     0.537757   \n",
       "std       0.0     0.938144     0.818172     0.985069     0.961128   \n",
       "min       0.0    -3.456462    -3.605773    -4.078232    -3.344323   \n",
       "25%       0.0    -0.149282    -0.506289    -0.236340    -0.140414   \n",
       "50%       0.0     0.883475    -0.015724     0.867160     0.932438   \n",
       "75%       0.0     1.165988     0.447057     1.142597     1.206613   \n",
       "max       0.0     3.439295     3.581171     3.279503     3.900672   \n",
       "\n",
       "               f_4          f_5          f_6          f_7          f_8  ...  \\\n",
       "count  3850.000000  3850.000000  3850.000000  3850.000000  3850.000000  ...   \n",
       "mean      0.205177     0.117557    -0.187478    -0.184756    -0.158397  ...   \n",
       "std       0.959540     0.833402     1.030615     0.829810     1.001650  ...   \n",
       "min      -3.613712    -3.319666    -3.627701    -3.528635    -4.503662  ...   \n",
       "25%      -0.487336    -0.385564    -1.041811    -0.721281    -0.998972  ...   \n",
       "50%       0.344353     0.216695    -0.222315    -0.239900    -0.116996  ...   \n",
       "75%       1.021624     0.656654     0.706668     0.255553     0.678515  ...   \n",
       "max       3.488667     3.193113     3.062756     3.692669     3.017000  ...   \n",
       "\n",
       "            f_1190       f_1191       f_1192       f_1193       f_1194  \\\n",
       "count  3850.000000  3850.000000  3850.000000  3850.000000  3850.000000   \n",
       "mean      0.554650    -0.417062     0.062412    -0.268750    -0.107413   \n",
       "std       0.945503     1.035183     0.918475     0.962270     1.035620   \n",
       "min      -3.684054    -3.385650    -3.162629    -3.022903    -3.357147   \n",
       "25%      -0.053651    -1.263328    -0.594758    -1.016095    -1.007004   \n",
       "50%       0.937109    -0.515049     0.174416    -0.292924    -0.067019   \n",
       "75%       1.200452     0.332425     0.729584     0.391029     0.793604   \n",
       "max       4.077517     3.550058     3.550058     3.907684     3.777545   \n",
       "\n",
       "            f_1195       f_1196       f_1197       f_1198       f_1199  \n",
       "count  3850.000000  3850.000000  3850.000000  3850.000000  3850.000000  \n",
       "mean     -0.313844    -0.188299     0.489204    -0.258141    -0.075701  \n",
       "std       0.953724     0.846435     0.961586     0.998810     0.828229  \n",
       "min      -4.791005    -3.356509    -3.933762    -4.174752    -3.618622  \n",
       "25%      -0.943706    -0.715001    -0.182125    -1.086697    -0.588205  \n",
       "50%      -0.327877    -0.226964     0.904574    -0.281546    -0.067258  \n",
       "75%       0.271970     0.257808     1.166320     0.520457     0.384528  \n",
       "max       3.269490     3.526907     3.157554     3.335078     3.161221  \n",
       "\n",
       "[8 rows x 1201 columns]"
      ]
     },
     "execution_count": 32,
     "metadata": {},
     "output_type": "execute_result"
    }
   ],
   "source": [
    "df_labels_fake.describe()"
   ]
  },
  {
   "cell_type": "code",
   "execution_count": null,
   "metadata": {
    "colab": {
     "base_uri": "https://localhost:8080/",
     "height": 394
    },
    "id": "tg5S6TWAQQGa",
    "outputId": "cbc04029-9014-4da3-f165-164d64095ff5"
   },
   "outputs": [
    {
     "data": {
      "text/html": [
       "\n",
       "  <div id=\"df-4010c14a-5516-4580-900d-fc84343df54e\">\n",
       "    <div class=\"colab-df-container\">\n",
       "      <div>\n",
       "<style scoped>\n",
       "    .dataframe tbody tr th:only-of-type {\n",
       "        vertical-align: middle;\n",
       "    }\n",
       "\n",
       "    .dataframe tbody tr th {\n",
       "        vertical-align: top;\n",
       "    }\n",
       "\n",
       "    .dataframe thead th {\n",
       "        text-align: right;\n",
       "    }\n",
       "</style>\n",
       "<table border=\"1\" class=\"dataframe\">\n",
       "  <thead>\n",
       "    <tr style=\"text-align: right;\">\n",
       "      <th></th>\n",
       "      <th>labels</th>\n",
       "      <th>f_0</th>\n",
       "      <th>f_1</th>\n",
       "      <th>f_2</th>\n",
       "      <th>f_3</th>\n",
       "      <th>f_4</th>\n",
       "      <th>f_5</th>\n",
       "      <th>f_6</th>\n",
       "      <th>f_7</th>\n",
       "      <th>f_8</th>\n",
       "      <th>...</th>\n",
       "      <th>f_1190</th>\n",
       "      <th>f_1191</th>\n",
       "      <th>f_1192</th>\n",
       "      <th>f_1193</th>\n",
       "      <th>f_1194</th>\n",
       "      <th>f_1195</th>\n",
       "      <th>f_1196</th>\n",
       "      <th>f_1197</th>\n",
       "      <th>f_1198</th>\n",
       "      <th>f_1199</th>\n",
       "    </tr>\n",
       "  </thead>\n",
       "  <tbody>\n",
       "    <tr>\n",
       "      <th>count</th>\n",
       "      <td>1400.0</td>\n",
       "      <td>1400.000000</td>\n",
       "      <td>1400.000000</td>\n",
       "      <td>1400.000000</td>\n",
       "      <td>1400.000000</td>\n",
       "      <td>1400.000000</td>\n",
       "      <td>1400.000000</td>\n",
       "      <td>1400.000000</td>\n",
       "      <td>1400.000000</td>\n",
       "      <td>1400.000000</td>\n",
       "      <td>...</td>\n",
       "      <td>1400.000000</td>\n",
       "      <td>1400.000000</td>\n",
       "      <td>1400.000000</td>\n",
       "      <td>1400.000000</td>\n",
       "      <td>1400.000000</td>\n",
       "      <td>1400.000000</td>\n",
       "      <td>1400.000000</td>\n",
       "      <td>1400.000000</td>\n",
       "      <td>1400.000000</td>\n",
       "      <td>1400.000000</td>\n",
       "    </tr>\n",
       "    <tr>\n",
       "      <th>mean</th>\n",
       "      <td>1.0</td>\n",
       "      <td>0.064802</td>\n",
       "      <td>0.409193</td>\n",
       "      <td>-0.029270</td>\n",
       "      <td>0.022719</td>\n",
       "      <td>-0.215248</td>\n",
       "      <td>0.327466</td>\n",
       "      <td>-0.137206</td>\n",
       "      <td>0.228108</td>\n",
       "      <td>-0.074246</td>\n",
       "      <td>...</td>\n",
       "      <td>0.041741</td>\n",
       "      <td>-0.372058</td>\n",
       "      <td>0.171480</td>\n",
       "      <td>-0.296434</td>\n",
       "      <td>-0.203826</td>\n",
       "      <td>0.276291</td>\n",
       "      <td>0.157727</td>\n",
       "      <td>0.050665</td>\n",
       "      <td>-0.124678</td>\n",
       "      <td>0.232671</td>\n",
       "    </tr>\n",
       "    <tr>\n",
       "      <th>std</th>\n",
       "      <td>0.0</td>\n",
       "      <td>0.822742</td>\n",
       "      <td>1.024029</td>\n",
       "      <td>0.832047</td>\n",
       "      <td>0.825924</td>\n",
       "      <td>0.925952</td>\n",
       "      <td>1.031763</td>\n",
       "      <td>0.916289</td>\n",
       "      <td>1.030208</td>\n",
       "      <td>0.883430</td>\n",
       "      <td>...</td>\n",
       "      <td>0.819869</td>\n",
       "      <td>1.104632</td>\n",
       "      <td>1.058639</td>\n",
       "      <td>1.061999</td>\n",
       "      <td>1.056633</td>\n",
       "      <td>1.068060</td>\n",
       "      <td>1.036113</td>\n",
       "      <td>0.813314</td>\n",
       "      <td>0.893863</td>\n",
       "      <td>1.030468</td>\n",
       "    </tr>\n",
       "    <tr>\n",
       "      <th>min</th>\n",
       "      <td>1.0</td>\n",
       "      <td>-3.462941</td>\n",
       "      <td>-3.061072</td>\n",
       "      <td>-3.060476</td>\n",
       "      <td>-3.324739</td>\n",
       "      <td>-2.970385</td>\n",
       "      <td>-2.855506</td>\n",
       "      <td>-3.608427</td>\n",
       "      <td>-2.995866</td>\n",
       "      <td>-2.796173</td>\n",
       "      <td>...</td>\n",
       "      <td>-3.219559</td>\n",
       "      <td>-2.969118</td>\n",
       "      <td>-2.762414</td>\n",
       "      <td>-2.841162</td>\n",
       "      <td>-3.698249</td>\n",
       "      <td>-3.114715</td>\n",
       "      <td>-3.127319</td>\n",
       "      <td>-3.140881</td>\n",
       "      <td>-3.237633</td>\n",
       "      <td>-3.624981</td>\n",
       "    </tr>\n",
       "    <tr>\n",
       "      <th>25%</th>\n",
       "      <td>1.0</td>\n",
       "      <td>-0.436428</td>\n",
       "      <td>-0.319716</td>\n",
       "      <td>-0.546558</td>\n",
       "      <td>-0.494289</td>\n",
       "      <td>-0.897283</td>\n",
       "      <td>-0.401509</td>\n",
       "      <td>-0.743596</td>\n",
       "      <td>-0.471056</td>\n",
       "      <td>-0.686638</td>\n",
       "      <td>...</td>\n",
       "      <td>-0.476058</td>\n",
       "      <td>-1.281886</td>\n",
       "      <td>-0.588261</td>\n",
       "      <td>-1.145848</td>\n",
       "      <td>-1.012140</td>\n",
       "      <td>-0.455473</td>\n",
       "      <td>-0.564852</td>\n",
       "      <td>-0.471020</td>\n",
       "      <td>-0.729350</td>\n",
       "      <td>-0.484317</td>\n",
       "    </tr>\n",
       "    <tr>\n",
       "      <th>50%</th>\n",
       "      <td>1.0</td>\n",
       "      <td>0.070270</td>\n",
       "      <td>0.427571</td>\n",
       "      <td>-0.029743</td>\n",
       "      <td>0.031760</td>\n",
       "      <td>-0.272647</td>\n",
       "      <td>0.337853</td>\n",
       "      <td>-0.115410</td>\n",
       "      <td>0.240151</td>\n",
       "      <td>-0.095068</td>\n",
       "      <td>...</td>\n",
       "      <td>0.049110</td>\n",
       "      <td>-0.400176</td>\n",
       "      <td>0.248998</td>\n",
       "      <td>-0.318497</td>\n",
       "      <td>-0.298879</td>\n",
       "      <td>0.315481</td>\n",
       "      <td>0.174871</td>\n",
       "      <td>0.079494</td>\n",
       "      <td>-0.123543</td>\n",
       "      <td>0.306693</td>\n",
       "    </tr>\n",
       "    <tr>\n",
       "      <th>75%</th>\n",
       "      <td>1.0</td>\n",
       "      <td>0.598975</td>\n",
       "      <td>1.198388</td>\n",
       "      <td>0.517935</td>\n",
       "      <td>0.570023</td>\n",
       "      <td>0.432904</td>\n",
       "      <td>1.116948</td>\n",
       "      <td>0.497908</td>\n",
       "      <td>1.006404</td>\n",
       "      <td>0.541666</td>\n",
       "      <td>...</td>\n",
       "      <td>0.601029</td>\n",
       "      <td>0.457508</td>\n",
       "      <td>0.981958</td>\n",
       "      <td>0.457717</td>\n",
       "      <td>0.551920</td>\n",
       "      <td>1.055877</td>\n",
       "      <td>0.942090</td>\n",
       "      <td>0.618689</td>\n",
       "      <td>0.486917</td>\n",
       "      <td>0.975435</td>\n",
       "    </tr>\n",
       "    <tr>\n",
       "      <th>max</th>\n",
       "      <td>1.0</td>\n",
       "      <td>3.177726</td>\n",
       "      <td>3.208203</td>\n",
       "      <td>3.991985</td>\n",
       "      <td>3.020774</td>\n",
       "      <td>3.281725</td>\n",
       "      <td>2.936176</td>\n",
       "      <td>3.022501</td>\n",
       "      <td>3.877255</td>\n",
       "      <td>2.747384</td>\n",
       "      <td>...</td>\n",
       "      <td>2.745427</td>\n",
       "      <td>2.798844</td>\n",
       "      <td>3.790435</td>\n",
       "      <td>3.140983</td>\n",
       "      <td>3.264250</td>\n",
       "      <td>3.050249</td>\n",
       "      <td>2.926616</td>\n",
       "      <td>3.542401</td>\n",
       "      <td>3.642856</td>\n",
       "      <td>3.718869</td>\n",
       "    </tr>\n",
       "  </tbody>\n",
       "</table>\n",
       "<p>8 rows × 1201 columns</p>\n",
       "</div>\n",
       "      <button class=\"colab-df-convert\" onclick=\"convertToInteractive('df-4010c14a-5516-4580-900d-fc84343df54e')\"\n",
       "              title=\"Convert this dataframe to an interactive table.\"\n",
       "              style=\"display:none;\">\n",
       "        \n",
       "  <svg xmlns=\"http://www.w3.org/2000/svg\" height=\"24px\"viewBox=\"0 0 24 24\"\n",
       "       width=\"24px\">\n",
       "    <path d=\"M0 0h24v24H0V0z\" fill=\"none\"/>\n",
       "    <path d=\"M18.56 5.44l.94 2.06.94-2.06 2.06-.94-2.06-.94-.94-2.06-.94 2.06-2.06.94zm-11 1L8.5 8.5l.94-2.06 2.06-.94-2.06-.94L8.5 2.5l-.94 2.06-2.06.94zm10 10l.94 2.06.94-2.06 2.06-.94-2.06-.94-.94-2.06-.94 2.06-2.06.94z\"/><path d=\"M17.41 7.96l-1.37-1.37c-.4-.4-.92-.59-1.43-.59-.52 0-1.04.2-1.43.59L10.3 9.45l-7.72 7.72c-.78.78-.78 2.05 0 2.83L4 21.41c.39.39.9.59 1.41.59.51 0 1.02-.2 1.41-.59l7.78-7.78 2.81-2.81c.8-.78.8-2.07 0-2.86zM5.41 20L4 18.59l7.72-7.72 1.47 1.35L5.41 20z\"/>\n",
       "  </svg>\n",
       "      </button>\n",
       "      \n",
       "  <style>\n",
       "    .colab-df-container {\n",
       "      display:flex;\n",
       "      flex-wrap:wrap;\n",
       "      gap: 12px;\n",
       "    }\n",
       "\n",
       "    .colab-df-convert {\n",
       "      background-color: #E8F0FE;\n",
       "      border: none;\n",
       "      border-radius: 50%;\n",
       "      cursor: pointer;\n",
       "      display: none;\n",
       "      fill: #1967D2;\n",
       "      height: 32px;\n",
       "      padding: 0 0 0 0;\n",
       "      width: 32px;\n",
       "    }\n",
       "\n",
       "    .colab-df-convert:hover {\n",
       "      background-color: #E2EBFA;\n",
       "      box-shadow: 0px 1px 2px rgba(60, 64, 67, 0.3), 0px 1px 3px 1px rgba(60, 64, 67, 0.15);\n",
       "      fill: #174EA6;\n",
       "    }\n",
       "\n",
       "    [theme=dark] .colab-df-convert {\n",
       "      background-color: #3B4455;\n",
       "      fill: #D2E3FC;\n",
       "    }\n",
       "\n",
       "    [theme=dark] .colab-df-convert:hover {\n",
       "      background-color: #434B5C;\n",
       "      box-shadow: 0px 1px 3px 1px rgba(0, 0, 0, 0.15);\n",
       "      filter: drop-shadow(0px 1px 2px rgba(0, 0, 0, 0.3));\n",
       "      fill: #FFFFFF;\n",
       "    }\n",
       "  </style>\n",
       "\n",
       "      <script>\n",
       "        const buttonEl =\n",
       "          document.querySelector('#df-4010c14a-5516-4580-900d-fc84343df54e button.colab-df-convert');\n",
       "        buttonEl.style.display =\n",
       "          google.colab.kernel.accessAllowed ? 'block' : 'none';\n",
       "\n",
       "        async function convertToInteractive(key) {\n",
       "          const element = document.querySelector('#df-4010c14a-5516-4580-900d-fc84343df54e');\n",
       "          const dataTable =\n",
       "            await google.colab.kernel.invokeFunction('convertToInteractive',\n",
       "                                                     [key], {});\n",
       "          if (!dataTable) return;\n",
       "\n",
       "          const docLinkHtml = 'Like what you see? Visit the ' +\n",
       "            '<a target=\"_blank\" href=https://colab.research.google.com/notebooks/data_table.ipynb>data table notebook</a>'\n",
       "            + ' to learn more about interactive tables.';\n",
       "          element.innerHTML = '';\n",
       "          dataTable['output_type'] = 'display_data';\n",
       "          await google.colab.output.renderOutput(dataTable, element);\n",
       "          const docLink = document.createElement('div');\n",
       "          docLink.innerHTML = docLinkHtml;\n",
       "          element.appendChild(docLink);\n",
       "        }\n",
       "      </script>\n",
       "    </div>\n",
       "  </div>\n",
       "  "
      ],
      "text/plain": [
       "       labels          f_0          f_1          f_2          f_3  \\\n",
       "count  1400.0  1400.000000  1400.000000  1400.000000  1400.000000   \n",
       "mean      1.0     0.064802     0.409193    -0.029270     0.022719   \n",
       "std       0.0     0.822742     1.024029     0.832047     0.825924   \n",
       "min       1.0    -3.462941    -3.061072    -3.060476    -3.324739   \n",
       "25%       1.0    -0.436428    -0.319716    -0.546558    -0.494289   \n",
       "50%       1.0     0.070270     0.427571    -0.029743     0.031760   \n",
       "75%       1.0     0.598975     1.198388     0.517935     0.570023   \n",
       "max       1.0     3.177726     3.208203     3.991985     3.020774   \n",
       "\n",
       "               f_4          f_5          f_6          f_7          f_8  ...  \\\n",
       "count  1400.000000  1400.000000  1400.000000  1400.000000  1400.000000  ...   \n",
       "mean     -0.215248     0.327466    -0.137206     0.228108    -0.074246  ...   \n",
       "std       0.925952     1.031763     0.916289     1.030208     0.883430  ...   \n",
       "min      -2.970385    -2.855506    -3.608427    -2.995866    -2.796173  ...   \n",
       "25%      -0.897283    -0.401509    -0.743596    -0.471056    -0.686638  ...   \n",
       "50%      -0.272647     0.337853    -0.115410     0.240151    -0.095068  ...   \n",
       "75%       0.432904     1.116948     0.497908     1.006404     0.541666  ...   \n",
       "max       3.281725     2.936176     3.022501     3.877255     2.747384  ...   \n",
       "\n",
       "            f_1190       f_1191       f_1192       f_1193       f_1194  \\\n",
       "count  1400.000000  1400.000000  1400.000000  1400.000000  1400.000000   \n",
       "mean      0.041741    -0.372058     0.171480    -0.296434    -0.203826   \n",
       "std       0.819869     1.104632     1.058639     1.061999     1.056633   \n",
       "min      -3.219559    -2.969118    -2.762414    -2.841162    -3.698249   \n",
       "25%      -0.476058    -1.281886    -0.588261    -1.145848    -1.012140   \n",
       "50%       0.049110    -0.400176     0.248998    -0.318497    -0.298879   \n",
       "75%       0.601029     0.457508     0.981958     0.457717     0.551920   \n",
       "max       2.745427     2.798844     3.790435     3.140983     3.264250   \n",
       "\n",
       "            f_1195       f_1196       f_1197       f_1198       f_1199  \n",
       "count  1400.000000  1400.000000  1400.000000  1400.000000  1400.000000  \n",
       "mean      0.276291     0.157727     0.050665    -0.124678     0.232671  \n",
       "std       1.068060     1.036113     0.813314     0.893863     1.030468  \n",
       "min      -3.114715    -3.127319    -3.140881    -3.237633    -3.624981  \n",
       "25%      -0.455473    -0.564852    -0.471020    -0.729350    -0.484317  \n",
       "50%       0.315481     0.174871     0.079494    -0.123543     0.306693  \n",
       "75%       1.055877     0.942090     0.618689     0.486917     0.975435  \n",
       "max       3.050249     2.926616     3.542401     3.642856     3.718869  \n",
       "\n",
       "[8 rows x 1201 columns]"
      ]
     },
     "execution_count": 33,
     "metadata": {},
     "output_type": "execute_result"
    }
   ],
   "source": [
    "df_labels_real.describe()"
   ]
  },
  {
   "cell_type": "code",
   "execution_count": 47,
   "metadata": {
    "colab": {
     "base_uri": "https://localhost:8080/",
     "height": 300
    },
    "id": "Y-1xxOp_ifIO",
    "outputId": "9a4ad6ab-be9a-4a9e-b2bd-e53cf84798b2"
   },
   "outputs": [
    {
     "data": {
      "text/html": [
       "\n",
       "  <div id=\"df-1f2221b1-8c8c-4596-8c33-a388beec8e13\">\n",
       "    <div class=\"colab-df-container\">\n",
       "      <div>\n",
       "<style scoped>\n",
       "    .dataframe tbody tr th:only-of-type {\n",
       "        vertical-align: middle;\n",
       "    }\n",
       "\n",
       "    .dataframe tbody tr th {\n",
       "        vertical-align: top;\n",
       "    }\n",
       "\n",
       "    .dataframe thead th {\n",
       "        text-align: right;\n",
       "    }\n",
       "</style>\n",
       "<table border=\"1\" class=\"dataframe\">\n",
       "  <thead>\n",
       "    <tr style=\"text-align: right;\">\n",
       "      <th></th>\n",
       "      <th>id</th>\n",
       "      <th>f_0</th>\n",
       "      <th>f_1</th>\n",
       "      <th>f_2</th>\n",
       "      <th>f_3</th>\n",
       "      <th>f_4</th>\n",
       "      <th>f_5</th>\n",
       "      <th>f_6</th>\n",
       "      <th>f_7</th>\n",
       "      <th>f_8</th>\n",
       "      <th>...</th>\n",
       "      <th>f_1190</th>\n",
       "      <th>f_1191</th>\n",
       "      <th>f_1192</th>\n",
       "      <th>f_1193</th>\n",
       "      <th>f_1194</th>\n",
       "      <th>f_1195</th>\n",
       "      <th>f_1196</th>\n",
       "      <th>f_1197</th>\n",
       "      <th>f_1198</th>\n",
       "      <th>f_1199</th>\n",
       "    </tr>\n",
       "  </thead>\n",
       "  <tbody>\n",
       "    <tr>\n",
       "      <th>0</th>\n",
       "      <td>1</td>\n",
       "      <td>-3.388242</td>\n",
       "      <td>0.868285</td>\n",
       "      <td>-0.427619</td>\n",
       "      <td>-0.678964</td>\n",
       "      <td>-1.625735</td>\n",
       "      <td>0.262761</td>\n",
       "      <td>1.243040</td>\n",
       "      <td>1.537751</td>\n",
       "      <td>-0.352028</td>\n",
       "      <td>...</td>\n",
       "      <td>-0.776403</td>\n",
       "      <td>-0.662884</td>\n",
       "      <td>-0.257091</td>\n",
       "      <td>-1.168413</td>\n",
       "      <td>0.223260</td>\n",
       "      <td>-0.482520</td>\n",
       "      <td>-0.085453</td>\n",
       "      <td>-0.382265</td>\n",
       "      <td>-0.539349</td>\n",
       "      <td>-1.682404</td>\n",
       "    </tr>\n",
       "    <tr>\n",
       "      <th>1</th>\n",
       "      <td>2</td>\n",
       "      <td>-0.496920</td>\n",
       "      <td>0.952381</td>\n",
       "      <td>0.989040</td>\n",
       "      <td>0.451422</td>\n",
       "      <td>0.513516</td>\n",
       "      <td>-0.099658</td>\n",
       "      <td>-1.124326</td>\n",
       "      <td>0.729430</td>\n",
       "      <td>-0.216224</td>\n",
       "      <td>...</td>\n",
       "      <td>0.379635</td>\n",
       "      <td>-1.760084</td>\n",
       "      <td>1.125450</td>\n",
       "      <td>-0.328047</td>\n",
       "      <td>-0.880305</td>\n",
       "      <td>-1.257607</td>\n",
       "      <td>0.964312</td>\n",
       "      <td>2.021104</td>\n",
       "      <td>0.655021</td>\n",
       "      <td>-0.423029</td>\n",
       "    </tr>\n",
       "    <tr>\n",
       "      <th>2</th>\n",
       "      <td>3</td>\n",
       "      <td>1.128369</td>\n",
       "      <td>-0.537951</td>\n",
       "      <td>2.544358</td>\n",
       "      <td>1.165254</td>\n",
       "      <td>-1.904994</td>\n",
       "      <td>0.776961</td>\n",
       "      <td>-0.495768</td>\n",
       "      <td>0.060111</td>\n",
       "      <td>-1.418468</td>\n",
       "      <td>...</td>\n",
       "      <td>1.165254</td>\n",
       "      <td>-1.373589</td>\n",
       "      <td>-0.483701</td>\n",
       "      <td>-0.964782</td>\n",
       "      <td>-0.869555</td>\n",
       "      <td>0.066040</td>\n",
       "      <td>-0.444567</td>\n",
       "      <td>-0.531935</td>\n",
       "      <td>-0.878660</td>\n",
       "      <td>1.099488</td>\n",
       "    </tr>\n",
       "    <tr>\n",
       "      <th>3</th>\n",
       "      <td>4</td>\n",
       "      <td>0.051253</td>\n",
       "      <td>1.746814</td>\n",
       "      <td>0.681177</td>\n",
       "      <td>1.844524</td>\n",
       "      <td>-0.327977</td>\n",
       "      <td>1.226839</td>\n",
       "      <td>-0.085519</td>\n",
       "      <td>0.379008</td>\n",
       "      <td>-1.003667</td>\n",
       "      <td>...</td>\n",
       "      <td>-0.442288</td>\n",
       "      <td>-2.794472</td>\n",
       "      <td>-0.763468</td>\n",
       "      <td>-0.789832</td>\n",
       "      <td>-0.113209</td>\n",
       "      <td>-2.703150</td>\n",
       "      <td>-2.058728</td>\n",
       "      <td>1.070627</td>\n",
       "      <td>-0.458045</td>\n",
       "      <td>-0.435825</td>\n",
       "    </tr>\n",
       "    <tr>\n",
       "      <th>4</th>\n",
       "      <td>5</td>\n",
       "      <td>1.423209</td>\n",
       "      <td>-0.983594</td>\n",
       "      <td>-1.694170</td>\n",
       "      <td>1.197507</td>\n",
       "      <td>1.044211</td>\n",
       "      <td>0.518777</td>\n",
       "      <td>-0.298612</td>\n",
       "      <td>-0.365174</td>\n",
       "      <td>0.738447</td>\n",
       "      <td>...</td>\n",
       "      <td>-2.624450</td>\n",
       "      <td>-3.200223</td>\n",
       "      <td>0.711422</td>\n",
       "      <td>-0.190394</td>\n",
       "      <td>0.337224</td>\n",
       "      <td>-1.656639</td>\n",
       "      <td>0.707360</td>\n",
       "      <td>-0.562290</td>\n",
       "      <td>1.471181</td>\n",
       "      <td>-0.192000</td>\n",
       "    </tr>\n",
       "  </tbody>\n",
       "</table>\n",
       "<p>5 rows × 1201 columns</p>\n",
       "</div>\n",
       "      <button class=\"colab-df-convert\" onclick=\"convertToInteractive('df-1f2221b1-8c8c-4596-8c33-a388beec8e13')\"\n",
       "              title=\"Convert this dataframe to an interactive table.\"\n",
       "              style=\"display:none;\">\n",
       "        \n",
       "  <svg xmlns=\"http://www.w3.org/2000/svg\" height=\"24px\"viewBox=\"0 0 24 24\"\n",
       "       width=\"24px\">\n",
       "    <path d=\"M0 0h24v24H0V0z\" fill=\"none\"/>\n",
       "    <path d=\"M18.56 5.44l.94 2.06.94-2.06 2.06-.94-2.06-.94-.94-2.06-.94 2.06-2.06.94zm-11 1L8.5 8.5l.94-2.06 2.06-.94-2.06-.94L8.5 2.5l-.94 2.06-2.06.94zm10 10l.94 2.06.94-2.06 2.06-.94-2.06-.94-.94-2.06-.94 2.06-2.06.94z\"/><path d=\"M17.41 7.96l-1.37-1.37c-.4-.4-.92-.59-1.43-.59-.52 0-1.04.2-1.43.59L10.3 9.45l-7.72 7.72c-.78.78-.78 2.05 0 2.83L4 21.41c.39.39.9.59 1.41.59.51 0 1.02-.2 1.41-.59l7.78-7.78 2.81-2.81c.8-.78.8-2.07 0-2.86zM5.41 20L4 18.59l7.72-7.72 1.47 1.35L5.41 20z\"/>\n",
       "  </svg>\n",
       "      </button>\n",
       "      \n",
       "  <style>\n",
       "    .colab-df-container {\n",
       "      display:flex;\n",
       "      flex-wrap:wrap;\n",
       "      gap: 12px;\n",
       "    }\n",
       "\n",
       "    .colab-df-convert {\n",
       "      background-color: #E8F0FE;\n",
       "      border: none;\n",
       "      border-radius: 50%;\n",
       "      cursor: pointer;\n",
       "      display: none;\n",
       "      fill: #1967D2;\n",
       "      height: 32px;\n",
       "      padding: 0 0 0 0;\n",
       "      width: 32px;\n",
       "    }\n",
       "\n",
       "    .colab-df-convert:hover {\n",
       "      background-color: #E2EBFA;\n",
       "      box-shadow: 0px 1px 2px rgba(60, 64, 67, 0.3), 0px 1px 3px 1px rgba(60, 64, 67, 0.15);\n",
       "      fill: #174EA6;\n",
       "    }\n",
       "\n",
       "    [theme=dark] .colab-df-convert {\n",
       "      background-color: #3B4455;\n",
       "      fill: #D2E3FC;\n",
       "    }\n",
       "\n",
       "    [theme=dark] .colab-df-convert:hover {\n",
       "      background-color: #434B5C;\n",
       "      box-shadow: 0px 1px 3px 1px rgba(0, 0, 0, 0.15);\n",
       "      filter: drop-shadow(0px 1px 2px rgba(0, 0, 0, 0.3));\n",
       "      fill: #FFFFFF;\n",
       "    }\n",
       "  </style>\n",
       "\n",
       "      <script>\n",
       "        const buttonEl =\n",
       "          document.querySelector('#df-1f2221b1-8c8c-4596-8c33-a388beec8e13 button.colab-df-convert');\n",
       "        buttonEl.style.display =\n",
       "          google.colab.kernel.accessAllowed ? 'block' : 'none';\n",
       "\n",
       "        async function convertToInteractive(key) {\n",
       "          const element = document.querySelector('#df-1f2221b1-8c8c-4596-8c33-a388beec8e13');\n",
       "          const dataTable =\n",
       "            await google.colab.kernel.invokeFunction('convertToInteractive',\n",
       "                                                     [key], {});\n",
       "          if (!dataTable) return;\n",
       "\n",
       "          const docLinkHtml = 'Like what you see? Visit the ' +\n",
       "            '<a target=\"_blank\" href=https://colab.research.google.com/notebooks/data_table.ipynb>data table notebook</a>'\n",
       "            + ' to learn more about interactive tables.';\n",
       "          element.innerHTML = '';\n",
       "          dataTable['output_type'] = 'display_data';\n",
       "          await google.colab.output.renderOutput(dataTable, element);\n",
       "          const docLink = document.createElement('div');\n",
       "          docLink.innerHTML = docLinkHtml;\n",
       "          element.appendChild(docLink);\n",
       "        }\n",
       "      </script>\n",
       "    </div>\n",
       "  </div>\n",
       "  "
      ],
      "text/plain": [
       "   id       f_0       f_1       f_2       f_3       f_4       f_5       f_6  \\\n",
       "0   1 -3.388242  0.868285 -0.427619 -0.678964 -1.625735  0.262761  1.243040   \n",
       "1   2 -0.496920  0.952381  0.989040  0.451422  0.513516 -0.099658 -1.124326   \n",
       "2   3  1.128369 -0.537951  2.544358  1.165254 -1.904994  0.776961 -0.495768   \n",
       "3   4  0.051253  1.746814  0.681177  1.844524 -0.327977  1.226839 -0.085519   \n",
       "4   5  1.423209 -0.983594 -1.694170  1.197507  1.044211  0.518777 -0.298612   \n",
       "\n",
       "        f_7       f_8  ...    f_1190    f_1191    f_1192    f_1193    f_1194  \\\n",
       "0  1.537751 -0.352028  ... -0.776403 -0.662884 -0.257091 -1.168413  0.223260   \n",
       "1  0.729430 -0.216224  ...  0.379635 -1.760084  1.125450 -0.328047 -0.880305   \n",
       "2  0.060111 -1.418468  ...  1.165254 -1.373589 -0.483701 -0.964782 -0.869555   \n",
       "3  0.379008 -1.003667  ... -0.442288 -2.794472 -0.763468 -0.789832 -0.113209   \n",
       "4 -0.365174  0.738447  ... -2.624450 -3.200223  0.711422 -0.190394  0.337224   \n",
       "\n",
       "     f_1195    f_1196    f_1197    f_1198    f_1199  \n",
       "0 -0.482520 -0.085453 -0.382265 -0.539349 -1.682404  \n",
       "1 -1.257607  0.964312  2.021104  0.655021 -0.423029  \n",
       "2  0.066040 -0.444567 -0.531935 -0.878660  1.099488  \n",
       "3 -2.703150 -2.058728  1.070627 -0.458045 -0.435825  \n",
       "4 -1.656639  0.707360 -0.562290  1.471181 -0.192000  \n",
       "\n",
       "[5 rows x 1201 columns]"
      ]
     },
     "execution_count": 47,
     "metadata": {},
     "output_type": "execute_result"
    }
   ],
   "source": [
    "import pandas as pd\n",
    "file_path = '/content/drive/MyDrive/523_competition/Dataset/test.csv'\n",
    "df_test = pd.read_csv(file_path)\n",
    "df_test.head(5)"
   ]
  },
  {
   "cell_type": "markdown",
   "metadata": {
    "id": "xRqGPebVSI6T"
   },
   "source": [
    "## split dataset"
   ]
  },
  {
   "cell_type": "code",
   "execution_count": 48,
   "metadata": {
    "id": "dyqNKE809zet"
   },
   "outputs": [],
   "source": [
    "# use full train dataset\n",
    "from sklearn.model_selection import train_test_split\n",
    "x_train = df.drop(['labels'],axis=1)\n",
    "y_train = df['labels']"
   ]
  },
  {
   "cell_type": "code",
   "execution_count": 56,
   "metadata": {
    "id": "1kzLSvYdf-Bi"
   },
   "outputs": [],
   "source": [
    "# minmax scaler\n",
    "from sklearn.preprocessing import MinMaxScaler\n",
    "scaler = MinMaxScaler()\n",
    "x_train_scaled = scaler.fit_transform(x_train)"
   ]
  },
  {
   "cell_type": "code",
   "execution_count": 49,
   "metadata": {
    "id": "giQxou5USDVg"
   },
   "outputs": [],
   "source": [
    "from sklearn.model_selection import train_test_split\n",
    "import random\n",
    "x = df.drop(['labels'],axis=1)\n",
    "y = df['labels']\n",
    "# test_size = 0.2, 0.25, 0.3\n",
    "# random_state = 0, 42\n",
    "x_train, x_test, y_train, y_test = train_test_split(x, y, test_size=0.3, random_state=42)"
   ]
  },
  {
   "cell_type": "code",
   "execution_count": 50,
   "metadata": {
    "colab": {
     "base_uri": "https://localhost:8080/"
    },
    "id": "1Ed76FtrI2L5",
    "outputId": "f031cd75-f263-4195-afa7-b616457b5e21"
   },
   "outputs": [
    {
     "name": "stdout",
     "output_type": "stream",
     "text": [
      "           f_0       f_1       f_2       f_3       f_4       f_5       f_6  \\\n",
      "378   0.077763 -0.043151 -1.533629 -1.544114  1.474142  0.512359 -0.855838   \n",
      "4789  1.090922 -0.909039  1.002874  1.090922  1.090922  0.361377  1.015452   \n",
      "3469  0.858858  0.501860  1.068133  1.006582  0.674204  0.563411 -0.224447   \n",
      "2503 -0.116254 -0.849429 -0.036677 -0.125716 -1.610065 -2.804631  0.249913   \n",
      "1580  0.147410  0.891389 -1.717380  2.190208  0.310308 -1.641835  1.017644   \n",
      "...        ...       ...       ...       ...       ...       ...       ...   \n",
      "3092  0.926197 -0.205674  0.880310  0.880310  0.865015  0.344966  0.895606   \n",
      "3772  1.186810  0.185421  1.110947  1.201982  1.156465  0.200594 -0.163547   \n",
      "5191  0.988398  0.388891 -1.520066  0.578209  0.862186  1.130387 -1.188760   \n",
      "5226 -0.497876  2.189146 -0.260248 -0.717225 -0.333364 -1.082806 -0.168853   \n",
      "860   0.424870  0.937529 -2.466789 -0.931663 -0.767514  0.975295  0.390572   \n",
      "\n",
      "           f_7       f_8       f_9  ...    f_1190    f_1191    f_1192  \\\n",
      "378  -0.810768 -0.644450  0.153127  ...  0.622602  1.006672 -1.109138   \n",
      "4789 -0.569423  0.625522 -0.141758  ...  1.015452  0.172701  0.474582   \n",
      "3469  0.169482  0.194102  0.661893  ...  1.068133 -2.058680  0.551101   \n",
      "2503  1.286373  2.305744  0.632979  ... -1.051318  1.560631  0.162772   \n",
      "1580  0.023883  0.638721  0.196691  ... -0.787879  0.297041 -0.036287   \n",
      "...        ...       ...       ...  ...       ...       ...       ...   \n",
      "3092 -0.924565  0.926197  0.176715  ...  0.926197  0.084941  0.696764   \n",
      "3772 -0.573206  0.261284 -0.861485  ...  1.171637 -1.453214  0.094386   \n",
      "5191  0.136467 -1.583172  0.041808  ...  0.688645  1.019951 -0.352605   \n",
      "5226  1.330030 -0.698945  0.489193  ... -0.698945 -0.278527 -1.411829   \n",
      "860   0.185220  0.045104 -0.412947  ... -1.798602 -1.474313 -0.854866   \n",
      "\n",
      "        f_1193    f_1194    f_1195    f_1196    f_1197    f_1198    f_1199  \n",
      "378  -0.838458  0.263211 -0.838476  1.275397 -0.290290  0.011363 -0.672544  \n",
      "4789 -0.682628  1.078344 -0.732942 -0.657472  1.090922 -1.814682 -0.481374  \n",
      "3469 -0.606066 -2.034060  0.317205  0.292585  1.068133 -0.138275  0.107930  \n",
      "2503  1.618049  1.238425  0.226599  0.682073  1.061913 -0.441704  0.962873  \n",
      "1580 -0.988879 -0.860041 -1.210911 -1.065082  1.577106 -1.394825  0.143979  \n",
      "...        ...       ...       ...       ...       ...       ...       ...  \n",
      "3092 -0.068014 -2.683554 -1.046930 -1.245772  0.926197  0.865015 -0.863383  \n",
      "3772 -0.922175 -0.118030 -0.209065 -0.330446  1.201982 -0.360791 -0.967693  \n",
      "5191  0.641315  1.303928  1.019951 -1.141430  0.799080 -1.441184 -0.226393  \n",
      "5226 -1.777410  2.097750  0.306403 -0.698945 -0.516155 -0.241969  0.562310  \n",
      "860   1.113286 -1.114380 -0.064283 -0.553206 -1.424262  1.425729 -1.594177  \n",
      "\n",
      "[4200 rows x 1200 columns]\n"
     ]
    }
   ],
   "source": [
    "print(x_train)"
   ]
  },
  {
   "cell_type": "code",
   "execution_count": 39,
   "metadata": {
    "id": "ZKKIE0RQZoiI"
   },
   "outputs": [],
   "source": [
    "# standard scaler\n",
    "from sklearn.preprocessing import StandardScaler\n",
    "stascaler = StandardScaler()\n",
    "x_train_stascaled = stascaler.fit_transform(x_train)\n",
    "x_test_stascaled = stascaler.fit_transform(x_test)"
   ]
  },
  {
   "cell_type": "code",
   "execution_count": 50,
   "metadata": {
    "id": "S66uypzxlp1Q"
   },
   "outputs": [],
   "source": [
    "# minmax scaler\n",
    "from sklearn.preprocessing import MinMaxScaler\n",
    "scaler = MinMaxScaler()\n",
    "x_train_scaled = scaler.fit_transform(x_train)\n",
    "x_test_scaled = scaler.fit_transform(x_test)"
   ]
  },
  {
   "cell_type": "code",
   "execution_count": 41,
   "metadata": {
    "id": "7ShpqNzMpImH"
   },
   "outputs": [],
   "source": [
    "# reshape\n",
    "x_train_reshaped = x_train_scaled.reshape(-1, 20*20*3)\n",
    "x_test_reshaped = x_test_scaled.reshape(-1, 20*20*3)"
   ]
  },
  {
   "cell_type": "code",
   "execution_count": 51,
   "metadata": {
    "id": "Xqmu7OQZGitR"
   },
   "outputs": [],
   "source": [
    "# use test dataset\n",
    "df_test = df_test.drop(['id'],axis=1)"
   ]
  },
  {
   "cell_type": "code",
   "execution_count": 61,
   "metadata": {
    "id": "7MWXt2aInBu1"
   },
   "outputs": [],
   "source": [
    "# add addtional standard scaler\n",
    "from sklearn.preprocessing import StandardScaler\n",
    "stascaler = StandardScaler()\n",
    "df_test_stascaled =stascaler.fit_transform(df_test)"
   ]
  },
  {
   "cell_type": "code",
   "execution_count": 52,
   "metadata": {
    "id": "lQ4E9UccnPnR"
   },
   "outputs": [],
   "source": [
    "# apply minmax scaler\n",
    "from sklearn.preprocessing import MinMaxScaler\n",
    "scaler = MinMaxScaler()\n",
    "df_test_scaled = scaler.fit_transform(df_test)"
   ]
  },
  {
   "cell_type": "code",
   "execution_count": 37,
   "metadata": {
    "id": "FR-al_Bm0H-9"
   },
   "outputs": [],
   "source": [
    "# reshape\n",
    "df_test_reshaped = df_test_scaled.reshape(-1, 20*20*3)"
   ]
  },
  {
   "cell_type": "code",
   "execution_count": 21,
   "metadata": {
    "colab": {
     "base_uri": "https://localhost:8080/"
    },
    "id": "ZjtzxHWKX8ai",
    "outputId": "8b166b83-cf34-4628-d4a3-4947c9fd2e6b"
   },
   "outputs": [
    {
     "name": "stdout",
     "output_type": "stream",
     "text": [
      "(2250, 1200)\n"
     ]
    }
   ],
   "source": [
    "print(df_test_reshaped.shape)"
   ]
  },
  {
   "cell_type": "markdown",
   "metadata": {
    "id": "Hbi_xqZRs9J_"
   },
   "source": [
    "## training"
   ]
  },
  {
   "cell_type": "markdown",
   "metadata": {
    "id": "atEG00elyY5k"
   },
   "source": [
    "## methods choosing"
   ]
  },
  {
   "cell_type": "markdown",
   "metadata": {
    "id": "1U5mggezyNEJ"
   },
   "source": [
    "### linear regression classifier"
   ]
  },
  {
   "cell_type": "code",
   "execution_count": null,
   "metadata": {
    "colab": {
     "base_uri": "https://localhost:8080/"
    },
    "id": "pc2ALHRgs2jn",
    "outputId": "16cfea5c-6540-41c1-f4ca-679c6e96f724"
   },
   "outputs": [
    {
     "name": "stdout",
     "output_type": "stream",
     "text": [
      "Accuracy: 0.7733333333333333\n"
     ]
    }
   ],
   "source": [
    "import sklearn.linear_model as sklm\n",
    "from sklearn import metrics\n",
    "from sklearn.linear_model import LinearRegression\n",
    "\n",
    "linreg = LinearRegression()\n",
    "linreg.fit(x_train, y_train)\n",
    "\n",
    "# Predict labels for the test set\n",
    "y_pred = linreg.predict(x_test)\n",
    "\n",
    "# Evaluate the model\n",
    "y_pre_linear= []\n",
    "for target in y_pred:\n",
    "  y_pre_linear.append(round(target))\n",
    "print(\"Accuracy:\", metrics.accuracy_score(y_test, y_pre_linear))"
   ]
  },
  {
   "cell_type": "markdown",
   "metadata": {
    "id": "iSO3uKZyOnAS"
   },
   "source": [
    "### logistic regression classifier"
   ]
  },
  {
   "cell_type": "code",
   "execution_count": null,
   "metadata": {
    "colab": {
     "base_uri": "https://localhost:8080/"
    },
    "id": "E2fF7nQLOR6Q",
    "outputId": "0030a90a-33aa-45d6-9056-80a1a578693f"
   },
   "outputs": [
    {
     "name": "stdout",
     "output_type": "stream",
     "text": [
      "Accuracy: 0.7923809523809524\n"
     ]
    },
    {
     "name": "stderr",
     "output_type": "stream",
     "text": [
      "/usr/local/lib/python3.10/dist-packages/sklearn/linear_model/_logistic.py:458: ConvergenceWarning: lbfgs failed to converge (status=1):\n",
      "STOP: TOTAL NO. of ITERATIONS REACHED LIMIT.\n",
      "\n",
      "Increase the number of iterations (max_iter) or scale the data as shown in:\n",
      "    https://scikit-learn.org/stable/modules/preprocessing.html\n",
      "Please also refer to the documentation for alternative solver options:\n",
      "    https://scikit-learn.org/stable/modules/linear_model.html#logistic-regression\n",
      "  n_iter_i = _check_optimize_result(\n"
     ]
    }
   ],
   "source": [
    "from sklearn.linear_model import LogisticRegression\n",
    "from sklearn.metrics import accuracy_score\n",
    "\n",
    "logreg = LogisticRegression()\n",
    "logreg.fit(x_train, y_train)\n",
    "\n",
    "# Predict labels for the test set\n",
    "y_pred = logreg.predict(x_test)\n",
    "\n",
    "# Evaluate the model\n",
    "accuracy = accuracy_score(y_test, y_pred)\n",
    "print(\"Accuracy:\", accuracy)"
   ]
  },
  {
   "cell_type": "markdown",
   "metadata": {
    "id": "aXRDz40z8QFW"
   },
   "source": [
    "### random forest classifier"
   ]
  },
  {
   "cell_type": "code",
   "execution_count": null,
   "metadata": {
    "colab": {
     "base_uri": "https://localhost:8080/"
    },
    "id": "f7rm_hw68Jnm",
    "outputId": "e4408e66-960a-46a1-906b-5c96cf682987"
   },
   "outputs": [
    {
     "name": "stdout",
     "output_type": "stream",
     "text": [
      "Accuracy: 0.8580952380952381\n"
     ]
    }
   ],
   "source": [
    "from sklearn.ensemble import RandomForestClassifier\n",
    "from sklearn.metrics import accuracy_score\n",
    "\n",
    "random_forest = RandomForestClassifier(n_estimators=100, random_state=42)\n",
    "random_forest.fit(x_train, y_train)\n",
    "\n",
    "# Predict labels for the test set\n",
    "y_pred = random_forest.predict(x_test)\n",
    "\n",
    "# Evaluate the model\n",
    "accuracy = accuracy_score(y_test, y_pred)\n",
    "print(\"Accuracy:\", accuracy)\n"
   ]
  },
  {
   "cell_type": "markdown",
   "metadata": {
    "id": "Y-n_s8tVQRz4"
   },
   "source": [
    "### svm"
   ]
  },
  {
   "cell_type": "code",
   "execution_count": null,
   "metadata": {
    "colab": {
     "base_uri": "https://localhost:8080/"
    },
    "id": "5JODnU61PAf0",
    "outputId": "bc7f3b11-4444-4444-d273-ca30e5ce1b48"
   },
   "outputs": [
    {
     "name": "stdout",
     "output_type": "stream",
     "text": [
      "Accuracy: 0.8647619047619047\n"
     ]
    }
   ],
   "source": [
    "from sklearn.svm import SVC\n",
    "from sklearn.metrics import accuracy_score\n",
    "\n",
    "svm = SVC()\n",
    "svm.fit(x_train, y_train)\n",
    "\n",
    "# Predict labels for the test set\n",
    "y_pred = svm.predict(x_test)\n",
    "\n",
    "# Evaluate the model\n",
    "accuracy = accuracy_score(y_test, y_pred)\n",
    "print(\"Accuracy:\", accuracy)"
   ]
  },
  {
   "cell_type": "markdown",
   "metadata": {
    "id": "aMUO8tuqx7QG"
   },
   "source": [
    "### gradientboosting classifier"
   ]
  },
  {
   "cell_type": "code",
   "execution_count": null,
   "metadata": {
    "colab": {
     "base_uri": "https://localhost:8080/"
    },
    "id": "-OIGnrhatm9S",
    "outputId": "aca81396-03c9-4d28-d02e-b20ecbfb9576"
   },
   "outputs": [
    {
     "name": "stdout",
     "output_type": "stream",
     "text": [
      "Accuracy: 0.8750952018278751\n"
     ]
    }
   ],
   "source": [
    "from sklearn.ensemble import GradientBoostingClassifier\n",
    "from sklearn import metrics\n",
    "\n",
    "clf = GradientBoostingClassifier(n_estimators=100, learning_rate=0.1,\n",
    "    max_depth=3, random_state=42)\n",
    "clf.fit(x_train, y_train)\n",
    "\n",
    "# Predict labels for the test set\n",
    "y_pre = clf.predict(x_test)\n",
    "\n",
    "# Evaluate the model\n",
    "y_pre_gboost = []\n",
    "for target in y_pre:\n",
    "  y_pre_gboost.append(round(target))\n",
    "print(\"Accuracy:\", metrics.accuracy_score(y_test, y_pre_gboost))"
   ]
  },
  {
   "cell_type": "markdown",
   "metadata": {
    "id": "t4EVfd5Shn4P"
   },
   "source": [
    "### adaboost classifier"
   ]
  },
  {
   "cell_type": "code",
   "execution_count": null,
   "metadata": {
    "colab": {
     "base_uri": "https://localhost:8080/"
    },
    "id": "ITp-rm1Qg5ov",
    "outputId": "2444c35d-97a3-46aa-fa72-89198384e3bf"
   },
   "outputs": [
    {
     "name": "stdout",
     "output_type": "stream",
     "text": [
      "Accuracy: 0.8476770753998477\n"
     ]
    }
   ],
   "source": [
    "from sklearn.ensemble import AdaBoostClassifier\n",
    "from sklearn.svm import SVC\n",
    "from sklearn.decomposition import PCA\n",
    "import numpy as np\n",
    "\n",
    "# Apply PCA for dimensionality reduction\n",
    "pca = PCA(n_components=185)\n",
    "X_train_pca = pca.fit_transform(x_train)\n",
    "# Create an AdaBoost classifier\n",
    "model = AdaBoostClassifier()\n",
    "\n",
    "# Train the model on the PCA-transformed data\n",
    "model.fit(X_train_pca, y_train)\n",
    "\n",
    "# Make predictions on the test set\n",
    "X_test_pca = pca.transform(x_test)\n",
    "y_pred = model.predict(X_test_pca)\n",
    "y_pred = np.round(y_pred).astype(int)\n",
    "\n",
    "# # Calculate F1 score\n",
    "# f1 = f1_score(y_test, y_pred)\n",
    "# print('F1 score:', f1)\n",
    "\n",
    "# Evaluate the model\n",
    "accuracy = accuracy_score(y_test, y_pred)\n",
    "print(\"Accuracy:\", accuracy)"
   ]
  },
  {
   "cell_type": "markdown",
   "metadata": {
    "id": "oKxGVhwO_4Zu"
   },
   "source": [
    "### xgboost classifier"
   ]
  },
  {
   "cell_type": "code",
   "execution_count": null,
   "metadata": {
    "id": "kRi_rEZ3_Vhu"
   },
   "outputs": [],
   "source": [
    "from sklearn.model_selection import GridSearchCV\n",
    "from xgboost import XGBClassifier\n",
    "\n",
    "# Define the parameter grid to search over\n",
    "param_grid = {\n",
    "    'learning_rate': [0.01, 0.1, 0.2],\n",
    "    'n_estimators': [100, 200, 300],\n",
    "    'max_depth': [3, 5, 7]\n",
    "}\n",
    "\n",
    "# Create an XGBoost classifier\n",
    "xgb = XGBClassifier()\n",
    "\n",
    "# Perform grid search\n",
    "grid_search = GridSearchCV(estimator=xgb, param_grid=param_grid, scoring='accuracy', cv=5)\n",
    "grid_search.fit(x_train, y_train)\n",
    "\n",
    "# Get the best parameters and best score\n",
    "best_params = grid_search.best_params_\n",
    "best_score = grid_search.best_score_\n",
    "\n",
    "# Print the best parameters and best score\n",
    "print(\"Best Parameters:\", best_params)\n",
    "print(\"Best Score:\", best_score)\n"
   ]
  },
  {
   "cell_type": "markdown",
   "metadata": {
    "id": "uCdREY7dygdi"
   },
   "source": [
    "### KNeighborsClassifier"
   ]
  },
  {
   "cell_type": "code",
   "execution_count": 165,
   "metadata": {
    "colab": {
     "base_uri": "https://localhost:8080/"
    },
    "id": "kmBtc9aFyha8",
    "outputId": "09b0c6bb-6764-497f-c0ce-38f65c489e09"
   },
   "outputs": [
    {
     "name": "stdout",
     "output_type": "stream",
     "text": [
      "Accuracy: 0.8584126984126984\n"
     ]
    }
   ],
   "source": [
    "from sklearn.neighbors import KNeighborsClassifier\n",
    "from sklearn.metrics import accuracy_score\n",
    "\n",
    "# k = 4,5,6,7,8,15,16,17,18,19,20\n",
    "k = 6\n",
    "knn = KNeighborsClassifier(n_neighbors=k, weights=\"distance\", algorithm=\"auto\", leaf_size=1, p=1, metric=\"manhattan\")\n",
    "knn.fit(x_train_reshaped, y_train)\n",
    "\n",
    "# Predict labels for the test set\n",
    "y_pred = knn.predict(x_test_reshaped)\n",
    "\n",
    "# Evaluate the model\n",
    "accuracy = accuracy_score(y_test, y_pred)\n",
    "print(\"Accuracy:\", accuracy)\n"
   ]
  },
  {
   "cell_type": "code",
   "execution_count": 241,
   "metadata": {
    "colab": {
     "base_uri": "https://localhost:8080/"
    },
    "id": "B0jqDuenu5Xx",
    "outputId": "80f04385-d3d1-4398-d48f-8bcbcb4a3df5"
   },
   "outputs": [
    {
     "name": "stdout",
     "output_type": "stream",
     "text": [
      "Cross-Validation Scores: [0.85986395 0.8585034  0.84217687 0.84761905 0.86122449]\n",
      "Average Accuracy: 0.8538775510204081\n",
      "Accuracy: 0.8584126984126984\n"
     ]
    }
   ],
   "source": [
    "from sklearn.model_selection import cross_val_score\n",
    "\n",
    "k = 6\n",
    "knn = KNeighborsClassifier(n_neighbors=k, weights=\"distance\", algorithm=\"auto\", leaf_size=1, p=1, metric=\"manhattan\")\n",
    "\n",
    "# Perform cross-validation\n",
    "num_folds = 5\n",
    "cv_scores = cross_val_score(knn, x_train_reshaped, y_train, cv=num_folds)\n",
    "\n",
    "# Print the cross-validation scores\n",
    "print(\"Cross-Validation Scores:\", cv_scores)\n",
    "\n",
    "# Calculate and print the average accuracy across all folds\n",
    "average_accuracy = cv_scores.mean()\n",
    "print(\"Average Accuracy:\", average_accuracy)\n",
    "\n",
    "knn.fit(x_train_reshaped, y_train)\n",
    "y_pred = knn.predict(x_test_reshaped)\n",
    "accuracy = accuracy_score(y_test, y_pred)\n",
    "print(\"Accuracy:\", accuracy)\n",
    "\n"
   ]
  },
  {
   "cell_type": "code",
   "execution_count": 64,
   "metadata": {
    "colab": {
     "base_uri": "https://localhost:8080/"
    },
    "id": "8OlkjGz311pp",
    "outputId": "8d27d7fa-0e58-431f-8062-f2a2ed585238"
   },
   "outputs": [
    {
     "name": "stdout",
     "output_type": "stream",
     "text": [
      "Cross-Validation Scores: [0.82857143 0.85306122 0.83673469 0.81768707 0.83945578]\n",
      "Average Accuracy: 0.8351020408163266\n",
      "Accuracy: 0.8177777777777778\n",
      "f1_score: 0.6975763962065332\n"
     ]
    }
   ],
   "source": [
    "from sklearn.neighbors import KNeighborsClassifier\n",
    "from sklearn.metrics import accuracy_score, f1_score\n",
    "from sklearn.model_selection import cross_val_score\n",
    "from sklearn.feature_selection import SelectKBest, f_classif\n",
    "import numpy as np\n",
    "\n",
    "# feature selection\n",
    "k_features = 950\n",
    "selector = SelectKBest(score_func=f_classif, k=k_features)\n",
    "x_train_selected = selector.fit_transform(x_train_reshaped, y_train)\n",
    "x_test_selected = selector.transform(x_test_reshaped)\n",
    "\n",
    "k = 6\n",
    "knn = KNeighborsClassifier(n_neighbors=k, weights=\"distance\", algorithm=\"auto\", leaf_size=1, p=1, metric=\"manhattan\")\n",
    "\n",
    "# Perform cross-validation\n",
    "num_folds = 5\n",
    "cv_scores = cross_val_score(knn, x_train_selected, y_train, cv=num_folds)\n",
    "\n",
    "# Print the cross-validation scores\n",
    "print(\"Cross-Validation Scores:\", cv_scores)\n",
    "\n",
    "# Calculate and print the average accuracy across all folds\n",
    "average_accuracy = cv_scores.mean()\n",
    "print(\"Average Accuracy:\", average_accuracy)\n",
    "\n",
    "knn.fit(x_train_selected, y_train)\n",
    "\n",
    "# transform the test set to keep only the selected features\n",
    "x_test_selected = selector.transform(x_test_reshaped)\n",
    "\n",
    "\n",
    "y_pred = knn.predict(x_test_selected)\n",
    "\n",
    "accuracy = accuracy_score(y_test, y_pred)\n",
    "print(\"Accuracy:\", accuracy)\n",
    "f1 = f1_score(y_test, y_pred)\n",
    "print(\"f1_score:\", f1)\n"
   ]
  },
  {
   "cell_type": "code",
   "execution_count": 53,
   "metadata": {
    "colab": {
     "base_uri": "https://localhost:8080/"
    },
    "id": "4mI5Z5ls9vcb",
    "outputId": "ea474d3a-051f-45d2-c50a-a2aebf5d8bf0"
   },
   "outputs": [
    {
     "name": "stdout",
     "output_type": "stream",
     "text": [
      "Cross-Validation Scores: [0.82857143 0.85306122 0.83673469 0.81768707 0.83945578]\n",
      "Average Accuracy: 0.8351020408163266\n",
      "Accuracy: 0.8177777777777778\n",
      "f1_score: 0.6975763962065332\n"
     ]
    }
   ],
   "source": [
    "# the best\n",
    "from sklearn.neighbors import KNeighborsClassifier\n",
    "from sklearn.metrics import accuracy_score, f1_score\n",
    "from sklearn.model_selection import cross_val_score\n",
    "from sklearn.feature_selection import SelectKBest, f_classif\n",
    "import numpy as np\n",
    "\n",
    "# feature selection\n",
    "k_features = 950\n",
    "selector = SelectKBest(score_func=f_classif, k=k_features)\n",
    "x_train_selected = selector.fit_transform(x_train_scaled, y_train)\n",
    "x_test_selected = selector.transform(x_test_scaled)\n",
    "\n",
    "k = 6\n",
    "knn = KNeighborsClassifier(n_neighbors=k, weights=\"distance\", algorithm=\"auto\", leaf_size=1, p=1, metric=\"manhattan\")\n",
    "\n",
    "# Perform cross-validation\n",
    "num_folds = 5\n",
    "cv_scores = cross_val_score(knn, x_train_selected, y_train, cv=num_folds)\n",
    "\n",
    "# Print the cross-validation scores\n",
    "print(\"Cross-Validation Scores:\", cv_scores)\n",
    "\n",
    "# Calculate and print the average accuracy across all folds\n",
    "average_accuracy = cv_scores.mean()\n",
    "print(\"Average Accuracy:\", average_accuracy)\n",
    "\n",
    "knn.fit(x_train_selected, y_train)\n",
    "\n",
    "# transform the test set to keep only the selected features\n",
    "x_test_selected = selector.transform(x_test_scaled)\n",
    "\n",
    "\n",
    "y_pred = knn.predict(x_test_selected)\n",
    "\n",
    "accuracy = accuracy_score(y_test, y_pred)\n",
    "print(\"Accuracy:\", accuracy)\n",
    "f1 = f1_score(y_test, y_pred)\n",
    "print(\"f1_score:\", f1)\n"
   ]
  },
  {
   "cell_type": "code",
   "execution_count": 42,
   "metadata": {
    "colab": {
     "base_uri": "https://localhost:8080/"
    },
    "id": "4CXK7-4t7D6v",
    "outputId": "98e1960f-00a5-4187-9fb2-0661249222b3"
   },
   "outputs": [
    {
     "name": "stdout",
     "output_type": "stream",
     "text": [
      "Cross-Validation Scores: [0.86258503 0.84081633 0.84217687 0.83537415 0.85442177]\n",
      "Average Accuracy: 0.8470748299319727\n",
      "Accuracy: 0.8622222222222222\n",
      "f1_score: 0.7461988304093566\n"
     ]
    }
   ],
   "source": [
    "from sklearn.neighbors import KNeighborsClassifier\n",
    "from sklearn.metrics import accuracy_score, f1_score\n",
    "from sklearn.model_selection import cross_val_score\n",
    "from sklearn.feature_selection import SelectKBest, f_classif\n",
    "import numpy as np\n",
    "\n",
    "# feature selection\n",
    "k_features = 950\n",
    "selector = SelectKBest(score_func=f_classif, k=k_features)\n",
    "x_train_selected = selector.fit_transform(x_train_reshaped, y_train)\n",
    "x_test_selected = selector.transform(x_test_reshaped)\n",
    "\n",
    "k = 6\n",
    "knn = KNeighborsClassifier(n_neighbors=k, weights=\"distance\", algorithm=\"auto\", leaf_size=1, p=1, metric=\"manhattan\")\n",
    "\n",
    "# Perform cross-validation\n",
    "num_folds = 5\n",
    "cv_scores = cross_val_score(knn, x_train_selected, y_train, cv=num_folds)\n",
    "\n",
    "# Print the cross-validation scores\n",
    "print(\"Cross-Validation Scores:\", cv_scores)\n",
    "\n",
    "# Calculate and print the average accuracy across all folds\n",
    "average_accuracy = cv_scores.mean()\n",
    "print(\"Average Accuracy:\", average_accuracy)\n",
    "\n",
    "knn.fit(x_train_selected, y_train)\n",
    "\n",
    "# transform the test set to keep only the selected features\n",
    "x_test_selected = selector.transform(x_test_reshaped)\n",
    "\n",
    "\n",
    "y_pred = knn.predict(x_test_selected)\n",
    "\n",
    "accuracy = accuracy_score(y_test, y_pred)\n",
    "print(\"Accuracy:\", accuracy)\n",
    "f1 = f1_score(y_test, y_pred)\n",
    "print(\"f1_score:\", f1)\n"
   ]
  },
  {
   "cell_type": "code",
   "execution_count": 27,
   "metadata": {
    "colab": {
     "base_uri": "https://localhost:8080/"
    },
    "id": "5KIzDnFv2sHP",
    "outputId": "12d12d36-2f00-4222-bee5-05fdc2fd356d"
   },
   "outputs": [
    {
     "name": "stdout",
     "output_type": "stream",
     "text": [
      "Cross-Validation Scores: [0.85079365 0.84021164 0.85396825 0.85079365 0.85820106]\n",
      "Average Accuracy: 0.8507936507936508\n",
      "Accuracy: 0.8742857142857143\n",
      "f1_score: 0.7338709677419354\n"
     ]
    }
   ],
   "source": [
    "from sklearn.neighbors import KNeighborsClassifier\n",
    "from sklearn.metrics import accuracy_score, f1_score\n",
    "from sklearn.model_selection import cross_val_score\n",
    "from sklearn.feature_selection import SelectKBest, f_classif\n",
    "import numpy as np\n",
    "\n",
    "# feature selection\n",
    "k_features = 950\n",
    "selector = SelectKBest(score_func=f_classif, k=k_features)\n",
    "x_train_selected = selector.fit_transform(x_train_reshaped, y_train)\n",
    "x_test_selected = selector.transform(x_test_reshaped)\n",
    "\n",
    "k = 9\n",
    "knn = KNeighborsClassifier(n_neighbors=k, weights=\"distance\", algorithm=\"auto\", leaf_size=1, p=1, metric=\"manhattan\")\n",
    "\n",
    "# Perform cross-validation\n",
    "num_folds = 5\n",
    "cv_scores = cross_val_score(knn, x_train_selected, y_train, cv=num_folds)\n",
    "\n",
    "# Print the cross-validation scores\n",
    "print(\"Cross-Validation Scores:\", cv_scores)\n",
    "\n",
    "# Calculate and print the average accuracy across all folds\n",
    "average_accuracy = cv_scores.mean()\n",
    "print(\"Average Accuracy:\", average_accuracy)\n",
    "\n",
    "knn.fit(x_train_selected, y_train)\n",
    "\n",
    "# transform the test set to keep only the selected features\n",
    "x_test_selected = selector.transform(x_test_reshaped)\n",
    "\n",
    "\n",
    "y_pred = knn.predict(x_test_selected)\n",
    "\n",
    "accuracy = accuracy_score(y_test, y_pred)\n",
    "print(\"Accuracy:\", accuracy)\n",
    "f1 = f1_score(y_test, y_pred)\n",
    "print(\"f1_score:\", f1)\n"
   ]
  },
  {
   "cell_type": "code",
   "execution_count": null,
   "metadata": {
    "id": "X7UdUwgO0Sge"
   },
   "outputs": [],
   "source": [
    "# Polynomial Features\n",
    "from sklearn.neighbors import KNeighborsClassifier\n",
    "from sklearn.metrics import accuracy_score, f1_score\n",
    "from sklearn.model_selection import cross_val_score\n",
    "from sklearn.feature_selection import SelectKBest, f_classif\n",
    "import numpy as np\n",
    "\n",
    "from sklearn.preprocessing import PolynomialFeatures\n",
    "\n",
    "# Create polynomial features\n",
    "poly = PolynomialFeatures(degree=2)\n",
    "x_train_poly = poly.fit_transform(x_train_scaled)\n",
    "x_test_poly = poly.transform(x_test_scaled)\n",
    "\n",
    "# feature selection\n",
    "k_features = 950\n",
    "selector = SelectKBest(score_func=f_classif, k=k_features)\n",
    "x_train_selected = selector.fit_transform(x_train_poly, y_train)\n",
    "x_test_selected = selector.transform(x_test_poly)\n",
    "\n",
    "k = 6\n",
    "knn = KNeighborsClassifier(n_neighbors=k, weights=\"distance\", algorithm=\"auto\", leaf_size=1, p=1, metric=\"manhattan\")\n",
    "\n",
    "# Perform cross-validation\n",
    "num_folds = 5\n",
    "cv_scores = cross_val_score(knn, x_train_selected, y_train, cv=num_folds)\n",
    "\n",
    "# Print the cross-validation scores\n",
    "print(\"Cross-Validation Scores:\", cv_scores)\n",
    "\n",
    "# Calculate and print the average accuracy across all folds\n",
    "average_accuracy = cv_scores.mean()\n",
    "print(\"Average Accuracy:\", average_accuracy)\n",
    "\n",
    "knn.fit(x_train_selected, y_train)\n",
    "\n",
    "# transform the test set to keep only the selected features\n",
    "x_test_selected = selector.transform(x_test_poly)\n",
    "\n",
    "\n",
    "y_pred = knn.predict(x_test_selected)\n",
    "\n",
    "accuracy = accuracy_score(y_test, y_pred)\n",
    "print(\"Accuracy:\", accuracy)\n",
    "f1 = f1_score(y_test, y_pred)\n",
    "print(\"f1_score:\", f1)\n"
   ]
  },
  {
   "cell_type": "code",
   "execution_count": null,
   "metadata": {
    "id": "8jfjlTNi0lS2"
   },
   "outputs": [],
   "source": [
    "# interaction features\n",
    "from sklearn.neighbors import KNeighborsClassifier\n",
    "from sklearn.metrics import accuracy_score, f1_score\n",
    "from sklearn.model_selection import cross_val_score\n",
    "from sklearn.feature_selection import SelectKBest, f_classif\n",
    "import numpy as np\n",
    "\n",
    "from sklearn.preprocessing import PolynomialFeatures\n",
    "\n",
    "# Create interaction features\n",
    "interaction = PolynomialFeatures(degree=2, interaction_only=True, include_bias=False)\n",
    "x_train_poly = interaction.fit_transform(x_train_scaled)\n",
    "x_test_poly = interaction.transform(x_test_scaled)\n",
    "\n",
    "\n",
    "# feature selection\n",
    "k_features = 950\n",
    "selector = SelectKBest(score_func=f_classif, k=k_features)\n",
    "x_train_selected = selector.fit_transform(x_train_poly, y_train)\n",
    "x_test_selected = selector.transform(x_test_poly)\n",
    "\n",
    "k = 6\n",
    "knn = KNeighborsClassifier(n_neighbors=k, weights=\"distance\", algorithm=\"auto\", leaf_size=1, p=1, metric=\"manhattan\")\n",
    "\n",
    "# Perform cross-validation\n",
    "num_folds = 5\n",
    "cv_scores = cross_val_score(knn, x_train_selected, y_train, cv=num_folds)\n",
    "\n",
    "# Print the cross-validation scores\n",
    "print(\"Cross-Validation Scores:\", cv_scores)\n",
    "\n",
    "# Calculate and print the average accuracy across all folds\n",
    "average_accuracy = cv_scores.mean()\n",
    "print(\"Average Accuracy:\", average_accuracy)\n",
    "\n",
    "knn.fit(x_train_selected, y_train)\n",
    "\n",
    "# transform the test set to keep only the selected features\n",
    "x_test_selected = selector.transform(x_test_poly)\n",
    "\n",
    "\n",
    "y_pred = knn.predict(x_test_selected)\n",
    "\n",
    "accuracy = accuracy_score(y_test, y_pred)\n",
    "print(\"Accuracy:\", accuracy)\n",
    "f1 = f1_score(y_test, y_pred)\n",
    "print(\"f1_score:\", f1)\n"
   ]
  },
  {
   "cell_type": "code",
   "execution_count": 18,
   "metadata": {
    "colab": {
     "base_uri": "https://localhost:8080/"
    },
    "id": "4aybIP5v2BB7",
    "outputId": "20b43695-99f0-41e8-8ec2-2bf63e83ac28"
   },
   "outputs": [
    {
     "name": "stdout",
     "output_type": "stream",
     "text": [
      "Cross-Validation Scores: [0.73741497 0.73741497 0.74829932 0.73469388 0.74285714]\n",
      "Average Accuracy: 0.7401360544217688\n",
      "Accuracy: 0.8\n",
      "f1_score: 0.34237995824634654\n"
     ]
    }
   ],
   "source": [
    "# Polynomial Features\n",
    "from sklearn.neighbors import KNeighborsClassifier\n",
    "from sklearn.metrics import accuracy_score, f1_score\n",
    "from sklearn.model_selection import cross_val_score\n",
    "from sklearn.feature_selection import SelectKBest, f_classif\n",
    "import numpy as np\n",
    "from sklearn.decomposition import PCA\n",
    "\n",
    "# Apply PCA for dimensionality reduction\n",
    "pca = PCA(n_components=1200)  # Adjust the number of components as needed\n",
    "x_train_poly = pca.fit_transform(x_train_scaled)\n",
    "x_test_poly = pca.transform(x_test_scaled)\n",
    "\n",
    "\n",
    "# feature selection\n",
    "k_features = 950\n",
    "selector = SelectKBest(score_func=f_classif, k=k_features)\n",
    "x_train_selected = selector.fit_transform(x_train_poly, y_train)\n",
    "x_test_selected = selector.transform(x_test_poly)\n",
    "\n",
    "k = 6\n",
    "knn = KNeighborsClassifier(n_neighbors=k, weights=\"distance\", algorithm=\"auto\", leaf_size=1, p=1, metric=\"manhattan\")\n",
    "\n",
    "# Perform cross-validation\n",
    "num_folds = 5\n",
    "cv_scores = cross_val_score(knn, x_train_selected, y_train, cv=num_folds)\n",
    "\n",
    "# Print the cross-validation scores\n",
    "print(\"Cross-Validation Scores:\", cv_scores)\n",
    "\n",
    "# Calculate and print the average accuracy across all folds\n",
    "average_accuracy = cv_scores.mean()\n",
    "print(\"Average Accuracy:\", average_accuracy)\n",
    "\n",
    "knn.fit(x_train_selected, y_train)\n",
    "\n",
    "# transform the test set to keep only the selected features\n",
    "x_test_selected = selector.transform(x_test_poly)\n",
    "\n",
    "\n",
    "y_pred = knn.predict(x_test_selected)\n",
    "\n",
    "accuracy = accuracy_score(y_test, y_pred)\n",
    "print(\"Accuracy:\", accuracy)\n",
    "f1 = f1_score(y_test, y_pred)\n",
    "print(\"f1_score:\", f1)\n"
   ]
  },
  {
   "cell_type": "code",
   "execution_count": 9,
   "metadata": {
    "colab": {
     "base_uri": "https://localhost:8080/"
    },
    "id": "pxoODvm6dTf-",
    "outputId": "1192f70b-5f78-4a8c-a6b1-73eb6c7b2a6e"
   },
   "outputs": [
    {
     "name": "stdout",
     "output_type": "stream",
     "text": [
      "Cross-Validation Scores: [0.83945578 0.85714286 0.83537415 0.81496599 0.84489796]\n",
      "Average Accuracy: 0.8383673469387756\n",
      "Accuracy: 0.8501587301587301\n",
      "f1_score: 0.7324263038548754\n"
     ]
    }
   ],
   "source": [
    "# full size use augmentation\n",
    "from sklearn.neighbors import KNeighborsClassifier\n",
    "from sklearn.metrics import accuracy_score, f1_score\n",
    "from sklearn.model_selection import cross_val_score\n",
    "from sklearn.feature_selection import SelectKBest, f_classif\n",
    "import numpy as np\n",
    "\n",
    "# feature selection\n",
    "k_features = 950\n",
    "selector = SelectKBest(score_func=f_classif, k=k_features)\n",
    "x_train_selected = selector.fit_transform(x_train, y_train)\n",
    "x_test_selected = selector.transform(x_test)\n",
    "\n",
    "k = 6\n",
    "knn = KNeighborsClassifier(n_neighbors=k, weights=\"distance\", algorithm=\"auto\", leaf_size=1, p=1, metric=\"manhattan\")\n",
    "\n",
    "# Perform cross-validation\n",
    "num_folds = 5\n",
    "cv_scores = cross_val_score(knn, x_train_selected, y_train, cv=num_folds)\n",
    "\n",
    "# Print the cross-validation scores\n",
    "print(\"Cross-Validation Scores:\", cv_scores)\n",
    "\n",
    "# Calculate and print the average accuracy across all folds\n",
    "average_accuracy = cv_scores.mean()\n",
    "print(\"Average Accuracy:\", average_accuracy)\n",
    "\n",
    "knn.fit(x_train_selected, y_train)\n",
    "\n",
    "# transform the test set to keep only the selected features\n",
    "x_test_selected = selector.transform(x_test)\n",
    "\n",
    "\n",
    "y_pred = knn.predict(x_test_selected)\n",
    "\n",
    "accuracy = accuracy_score(y_test, y_pred)\n",
    "print(\"Accuracy:\", accuracy)\n",
    "f1 = f1_score(y_test, y_pred)\n",
    "print(\"f1_score:\", f1)\n"
   ]
  },
  {
   "cell_type": "code",
   "execution_count": 50,
   "metadata": {
    "colab": {
     "base_uri": "https://localhost:8080/",
     "height": 148
    },
    "id": "6Po6a71JeKti",
    "outputId": "125e23fa-29d7-4255-e727-e31e2e0e6848"
   },
   "outputs": [
    {
     "name": "stdout",
     "output_type": "stream",
     "text": [
      "Cross-Validation Scores: [0.595      0.62357143 0.96761905 0.98642857 0.98428571]\n",
      "Average Accuracy: 0.8313809523809523\n"
     ]
    },
    {
     "data": {
      "text/html": [
       "<style>#sk-container-id-2 {color: black;background-color: white;}#sk-container-id-2 pre{padding: 0;}#sk-container-id-2 div.sk-toggleable {background-color: white;}#sk-container-id-2 label.sk-toggleable__label {cursor: pointer;display: block;width: 100%;margin-bottom: 0;padding: 0.3em;box-sizing: border-box;text-align: center;}#sk-container-id-2 label.sk-toggleable__label-arrow:before {content: \"▸\";float: left;margin-right: 0.25em;color: #696969;}#sk-container-id-2 label.sk-toggleable__label-arrow:hover:before {color: black;}#sk-container-id-2 div.sk-estimator:hover label.sk-toggleable__label-arrow:before {color: black;}#sk-container-id-2 div.sk-toggleable__content {max-height: 0;max-width: 0;overflow: hidden;text-align: left;background-color: #f0f8ff;}#sk-container-id-2 div.sk-toggleable__content pre {margin: 0.2em;color: black;border-radius: 0.25em;background-color: #f0f8ff;}#sk-container-id-2 input.sk-toggleable__control:checked~div.sk-toggleable__content {max-height: 200px;max-width: 100%;overflow: auto;}#sk-container-id-2 input.sk-toggleable__control:checked~label.sk-toggleable__label-arrow:before {content: \"▾\";}#sk-container-id-2 div.sk-estimator input.sk-toggleable__control:checked~label.sk-toggleable__label {background-color: #d4ebff;}#sk-container-id-2 div.sk-label input.sk-toggleable__control:checked~label.sk-toggleable__label {background-color: #d4ebff;}#sk-container-id-2 input.sk-hidden--visually {border: 0;clip: rect(1px 1px 1px 1px);clip: rect(1px, 1px, 1px, 1px);height: 1px;margin: -1px;overflow: hidden;padding: 0;position: absolute;width: 1px;}#sk-container-id-2 div.sk-estimator {font-family: monospace;background-color: #f0f8ff;border: 1px dotted black;border-radius: 0.25em;box-sizing: border-box;margin-bottom: 0.5em;}#sk-container-id-2 div.sk-estimator:hover {background-color: #d4ebff;}#sk-container-id-2 div.sk-parallel-item::after {content: \"\";width: 100%;border-bottom: 1px solid gray;flex-grow: 1;}#sk-container-id-2 div.sk-label:hover label.sk-toggleable__label {background-color: #d4ebff;}#sk-container-id-2 div.sk-serial::before {content: \"\";position: absolute;border-left: 1px solid gray;box-sizing: border-box;top: 0;bottom: 0;left: 50%;z-index: 0;}#sk-container-id-2 div.sk-serial {display: flex;flex-direction: column;align-items: center;background-color: white;padding-right: 0.2em;padding-left: 0.2em;position: relative;}#sk-container-id-2 div.sk-item {position: relative;z-index: 1;}#sk-container-id-2 div.sk-parallel {display: flex;align-items: stretch;justify-content: center;background-color: white;position: relative;}#sk-container-id-2 div.sk-item::before, #sk-container-id-2 div.sk-parallel-item::before {content: \"\";position: absolute;border-left: 1px solid gray;box-sizing: border-box;top: 0;bottom: 0;left: 50%;z-index: -1;}#sk-container-id-2 div.sk-parallel-item {display: flex;flex-direction: column;z-index: 1;position: relative;background-color: white;}#sk-container-id-2 div.sk-parallel-item:first-child::after {align-self: flex-end;width: 50%;}#sk-container-id-2 div.sk-parallel-item:last-child::after {align-self: flex-start;width: 50%;}#sk-container-id-2 div.sk-parallel-item:only-child::after {width: 0;}#sk-container-id-2 div.sk-dashed-wrapped {border: 1px dashed gray;margin: 0 0.4em 0.5em 0.4em;box-sizing: border-box;padding-bottom: 0.4em;background-color: white;}#sk-container-id-2 div.sk-label label {font-family: monospace;font-weight: bold;display: inline-block;line-height: 1.2em;}#sk-container-id-2 div.sk-label-container {text-align: center;}#sk-container-id-2 div.sk-container {/* jupyter's `normalize.less` sets `[hidden] { display: none; }` but bootstrap.min.css set `[hidden] { display: none !important; }` so we also need the `!important` here to be able to override the default hidden behavior on the sphinx rendered scikit-learn.org. See: https://github.com/scikit-learn/scikit-learn/issues/21755 */display: inline-block !important;position: relative;}#sk-container-id-2 div.sk-text-repr-fallback {display: none;}</style><div id=\"sk-container-id-2\" class=\"sk-top-container\"><div class=\"sk-text-repr-fallback\"><pre>KNeighborsClassifier(leaf_size=1, metric=&#x27;manhattan&#x27;, n_neighbors=6, p=1,\n",
       "                     weights=&#x27;distance&#x27;)</pre><b>In a Jupyter environment, please rerun this cell to show the HTML representation or trust the notebook. <br />On GitHub, the HTML representation is unable to render, please try loading this page with nbviewer.org.</b></div><div class=\"sk-container\" hidden><div class=\"sk-item\"><div class=\"sk-estimator sk-toggleable\"><input class=\"sk-toggleable__control sk-hidden--visually\" id=\"sk-estimator-id-2\" type=\"checkbox\" checked><label for=\"sk-estimator-id-2\" class=\"sk-toggleable__label sk-toggleable__label-arrow\">KNeighborsClassifier</label><div class=\"sk-toggleable__content\"><pre>KNeighborsClassifier(leaf_size=1, metric=&#x27;manhattan&#x27;, n_neighbors=6, p=1,\n",
       "                     weights=&#x27;distance&#x27;)</pre></div></div></div></div></div>"
      ],
      "text/plain": [
       "KNeighborsClassifier(leaf_size=1, metric='manhattan', n_neighbors=6, p=1,\n",
       "                     weights='distance')"
      ]
     },
     "execution_count": 50,
     "metadata": {},
     "output_type": "execute_result"
    }
   ],
   "source": [
    "# full size use augmentation without feature selection\n",
    "from sklearn.neighbors import KNeighborsClassifier\n",
    "from sklearn.metrics import accuracy_score, f1_score\n",
    "from sklearn.model_selection import cross_val_score\n",
    "from sklearn.feature_selection import SelectKBest, f_classif\n",
    "import numpy as np\n",
    "import cv2\n",
    "\n",
    "# Data augmentation function\n",
    "def augment_data(features, labels):\n",
    "    augmented_features = []\n",
    "    augmented_labels = []\n",
    "\n",
    "    for feature, label in zip(features, labels):\n",
    "        augmented_features.append(feature)\n",
    "        augmented_labels.append(label)\n",
    "\n",
    "        # Random horizontal flip\n",
    "        flipped_feature = np.fliplr(feature.reshape((1, -1))).reshape(feature.shape)\n",
    "        augmented_features.append(flipped_feature)\n",
    "        augmented_labels.append(label)\n",
    "\n",
    "        # Random vertical flip\n",
    "        flipped_feature_vert = np.flipud(feature.reshape((1, -1))).reshape(feature.shape)\n",
    "        augmented_features.append(flipped_feature_vert)\n",
    "        augmented_labels.append(label)\n",
    "\n",
    "        # Random rotation (90 degrees clockwise or counter-clockwise)\n",
    "        random_rotation = np.random.randint(2)\n",
    "        if random_rotation == 0:\n",
    "            rotated_feature = cv2.rotate(feature.reshape((1,) + feature.shape), cv2.ROTATE_90_CLOCKWISE)\n",
    "        else:\n",
    "            rotated_feature = cv2.rotate(feature.reshape((1,) + feature.shape), cv2.ROTATE_90_COUNTERCLOCKWISE)\n",
    "        augmented_features.append(rotated_feature.reshape(feature.shape))\n",
    "        augmented_labels.append(label)\n",
    "\n",
    "    return np.array(augmented_features), np.array(augmented_labels)\n",
    "\n",
    "# Convert data to NumPy arrays\n",
    "x_train = np.array(x_train)\n",
    "y_train = np.array(y_train)\n",
    "x_test = np.array(x_test)\n",
    "y_test = np.array(y_test)\n",
    "\n",
    "# # Feature selection\n",
    "# k_features = 950\n",
    "# selector = SelectKBest(score_func=f_classif, k=k_features)\n",
    "\n",
    "# Data augmentation on the training set\n",
    "x_train_augmented, y_train_augmented = augment_data(x_train, y_train)\n",
    "# x_train_selected = selector.fit_transform(x_train_augmented, y_train_augmented)\n",
    "\n",
    "# # Feature selection on the test set\n",
    "# x_test_selected = selector.transform(x_test)\n",
    "\n",
    "k = 6\n",
    "knn = KNeighborsClassifier(n_neighbors=k, weights=\"distance\", algorithm=\"auto\", leaf_size=1, p=1, metric=\"manhattan\")\n",
    "\n",
    "# Perform cross-validation on the augmented training data\n",
    "num_folds = 5\n",
    "cv_scores = cross_val_score(knn, x_train_augmented, y_train_augmented, cv=num_folds)\n",
    "\n",
    "# Print the cross-validation scores\n",
    "print(\"Cross-Validation Scores:\", cv_scores)\n",
    "\n",
    "# Calculate and print the average accuracy across all folds\n",
    "average_accuracy = cv_scores.mean()\n",
    "print(\"Average Accuracy:\", average_accuracy)\n",
    "\n",
    "knn.fit(x_train_augmented, y_train_augmented)\n",
    "\n",
    "# # Predict using the KNN classifier and the selected test data\n",
    "# y_pred = knn.predict(x_test_selected)\n",
    "\n",
    "# # Calculate accuracy and f1_score\n",
    "# accuracy = accuracy_score(y_test, y_pred)\n",
    "# print(\"Accuracy:\", accuracy)\n",
    "# f1 = f1_score(y_test, y_pred)\n",
    "# print(\"f1_score:\", f1)\n"
   ]
  },
  {
   "cell_type": "code",
   "execution_count": null,
   "metadata": {
    "id": "yThUY21oibXu"
   },
   "outputs": [],
   "source": [
    "from sklearn.neighbors import KNeighborsClassifier\n",
    "from sklearn.metrics import accuracy_score, f1_score\n",
    "from sklearn.model_selection import cross_val_score\n",
    "from sklearn.feature_selection import SelectKBest, f_classif\n",
    "import numpy as np\n",
    "import cv2\n",
    "\n",
    "# Data augmentation function\n",
    "def augment_data(features, labels):\n",
    "    augmented_features = []\n",
    "    augmented_labels = []\n",
    "\n",
    "    for feature, label in zip(features, labels):\n",
    "        augmented_features.append(feature)\n",
    "        augmented_labels.append(label)\n",
    "\n",
    "        # Random horizontal flip\n",
    "        flipped_feature = np.fliplr(feature.reshape((1, -1))).reshape(feature.shape)\n",
    "        augmented_features.append(flipped_feature)\n",
    "        augmented_labels.append(label)\n",
    "\n",
    "        # Random vertical flip\n",
    "        flipped_feature_vert = np.flipud(feature.reshape((1, -1))).reshape(feature.shape)\n",
    "        augmented_features.append(flipped_feature_vert)\n",
    "        augmented_labels.append(label)\n",
    "\n",
    "        # Random rotation (90 degrees clockwise or counter-clockwise)\n",
    "        random_rotation = np.random.randint(2)\n",
    "        if random_rotation == 0:\n",
    "            rotated_feature = cv2.rotate(feature.reshape((1,) + feature.shape), cv2.ROTATE_90_CLOCKWISE)\n",
    "        else:\n",
    "            rotated_feature = cv2.rotate(feature.reshape((1,) + feature.shape), cv2.ROTATE_90_COUNTERCLOCKWISE)\n",
    "        augmented_features.append(rotated_feature.reshape(feature.shape))\n",
    "        augmented_labels.append(label)\n",
    "\n",
    "    return np.array(augmented_features), np.array(augmented_labels)\n",
    "\n",
    "# Convert data to NumPy arrays\n",
    "x_train = np.array(x_train)\n",
    "y_train = np.array(y_train)\n",
    "x_test = np.array(x_test)\n",
    "y_test = np.array(y_test)\n",
    "\n",
    "# Feature selection\n",
    "k_features = 950\n",
    "selector = SelectKBest(score_func=f_classif, k=k_features)\n",
    "\n",
    "# Data augmentation on the training set\n",
    "x_train_augmented, y_train_augmented = augment_data(x_train, y_train)\n",
    "# x_train_selected = selector.fit_transform(x_train_augmented, y_train_augmented)\n",
    "\n",
    "# # Feature selection on the test set\n",
    "# x_test_selected = selector.transform(x_test)\n",
    "\n",
    "k = 6\n",
    "knn = KNeighborsClassifier(n_neighbors=k, weights=\"distance\", algorithm=\"auto\", leaf_size=1, p=1, metric=\"manhattan\")\n",
    "\n",
    "# Perform cross-validation on the augmented training data\n",
    "num_folds = 5\n",
    "cv_scores = cross_val_score(knn, x_train_augmented, y_train_augmented, cv=num_folds)\n",
    "\n",
    "# Print the cross-validation scores\n",
    "print(\"Cross-Validation Scores:\", cv_scores)\n",
    "\n",
    "# Calculate and print the average accuracy across all folds\n",
    "average_accuracy = cv_scores.mean()\n",
    "print(\"Average Accuracy:\", average_accuracy)\n",
    "\n",
    "knn.fit(x_train_augmented, y_train_augmented)\n",
    "\n",
    "# Predict using the KNN classifier and the selected test data\n",
    "y_pred = knn.predict(x_test)\n",
    "\n",
    "# Calculate accuracy and f1_score\n",
    "accuracy = accuracy_score(y_test, y_pred)\n",
    "print(\"Accuracy:\", accuracy)\n",
    "f1 = f1_score(y_test, y_pred)\n",
    "print(\"f1_score:\", f1)\n"
   ]
  },
  {
   "cell_type": "code",
   "execution_count": 43,
   "metadata": {
    "colab": {
     "base_uri": "https://localhost:8080/"
    },
    "id": "vcwV-7OYFU7p",
    "outputId": "bc93c1cc-1087-4073-ee6f-de02aead7ead"
   },
   "outputs": [
    {
     "name": "stdout",
     "output_type": "stream",
     "text": [
      "Cross-Validation Scores: [0.85986395 0.8585034  0.85442177 0.86122449 0.84353741]\n",
      "Average Accuracy: 0.8555102040816326\n",
      "Accuracy: 0.833015873015873\n",
      "f1_score: 0.7034949267192785\n"
     ]
    }
   ],
   "source": [
    "from sklearn.neighbors import KNeighborsClassifier\n",
    "from sklearn.metrics import accuracy_score, f1_score\n",
    "from sklearn.model_selection import cross_val_score\n",
    "from sklearn.feature_selection import SelectKBest, f_classif\n",
    "import numpy as np\n",
    "\n",
    "# feature selection\n",
    "k_features = 950\n",
    "selector = SelectKBest(score_func=f_classif, k=k_features)\n",
    "x_train_selected = selector.fit_transform(x_train_reshaped, y_train)\n",
    "x_test_selected = selector.transform(x_test_reshaped)\n",
    "\n",
    "k = 15\n",
    "knn = KNeighborsClassifier(n_neighbors=k, weights=\"distance\", algorithm=\"auto\", leaf_size=1, p=1, metric=\"manhattan\")\n",
    "\n",
    "# Perform cross-validation\n",
    "num_folds = 5\n",
    "cv_scores = cross_val_score(knn, x_train_selected, y_train, cv=num_folds)\n",
    "\n",
    "# Print the cross-validation scores\n",
    "print(\"Cross-Validation Scores:\", cv_scores)\n",
    "\n",
    "# Calculate and print the average accuracy across all folds\n",
    "average_accuracy = cv_scores.mean()\n",
    "print(\"Average Accuracy:\", average_accuracy)\n",
    "\n",
    "knn.fit(x_train_selected, y_train)\n",
    "\n",
    "# transform the test set to keep only the selected features\n",
    "x_test_selected = selector.transform(x_test_reshaped)\n",
    "\n",
    "\n",
    "y_pred = knn.predict(x_test_selected)\n",
    "\n",
    "accuracy = accuracy_score(y_test, y_pred)\n",
    "print(\"Accuracy:\", accuracy)\n",
    "f1 = f1_score(y_test, y_pred)\n",
    "print(\"f1_score:\", f1)\n"
   ]
  },
  {
   "cell_type": "code",
   "execution_count": 36,
   "metadata": {
    "colab": {
     "base_uri": "https://localhost:8080/"
    },
    "id": "yKfgUZrQ4qdF",
    "outputId": "e4dfb463-6c4c-49dd-ee22-5cfa95b0d5f7"
   },
   "outputs": [
    {
     "name": "stdout",
     "output_type": "stream",
     "text": [
      "Accuracy: 0.8177777777777778\n",
      "f1_score: 0.6975763962065332\n"
     ]
    }
   ],
   "source": [
    "from sklearn.neighbors import KNeighborsClassifier\n",
    "from sklearn.metrics import accuracy_score, f1_score\n",
    "from sklearn.model_selection import cross_val_score\n",
    "from sklearn.feature_selection import SelectKBest, f_classif\n",
    "import numpy as np\n",
    "import cv2\n",
    "import pandas as pd\n",
    "\n",
    "# Data augmentation\n",
    "def augment_data(features, labels):\n",
    "    augmented_features = []\n",
    "    augmented_labels = []\n",
    "\n",
    "    for feature, label in zip(features, labels):\n",
    "        augmented_features.append(feature)\n",
    "        augmented_labels.append(label)\n",
    "\n",
    "        # Random horizontal flip\n",
    "        flipped_feature = np.fliplr(feature.reshape((1, -1))).reshape(feature.shape)\n",
    "        augmented_features.append(flipped_feature)\n",
    "        augmented_labels.append(label)\n",
    "\n",
    "        # Random rotation\n",
    "        rotated_feature = cv2.rotate(feature.reshape((1,) + feature.shape), cv2.ROTATE_90_CLOCKWISE)\n",
    "        augmented_features.append(rotated_feature.reshape(feature.shape))\n",
    "        augmented_labels.append(label)\n",
    "\n",
    "    return np.array(augmented_features), np.array(augmented_labels)\n",
    "\n",
    "# Assuming you already have x_train_reshaped, y_train, x_test_reshaped, and y_test\n",
    "\n",
    "# Data augmentation\n",
    "x_train_augmented, y_train_augmented = augment_data(x_train_reshaped, y_train)\n",
    "\n",
    "# Feature selection\n",
    "k_features = 950\n",
    "selector = SelectKBest(score_func=f_classif, k=k_features)\n",
    "x_train_selected = selector.fit_transform(x_train_augmented, y_train_augmented)\n",
    "x_test_selected = selector.transform(x_test_reshaped)\n",
    "\n",
    "k = 6\n",
    "knn = KNeighborsClassifier(n_neighbors=k, weights=\"distance\", algorithm=\"auto\", leaf_size=1, p=1, metric=\"manhattan\")\n",
    "\n",
    "# Fit the KNN classifier on the augmented and selected training data\n",
    "knn.fit(x_train_selected, y_train_augmented)\n",
    "\n",
    "# Predict using the KNN classifier and the selected test data\n",
    "y_pred = knn.predict(x_test_selected)\n",
    "\n",
    "# Calculate accuracy and f1_score\n",
    "accuracy = accuracy_score(y_test, y_pred)\n",
    "print(\"Accuracy:\", accuracy)\n",
    "f1 = f1_score(y_test, y_pred)\n",
    "print(\"f1_score:\", f1)"
   ]
  },
  {
   "cell_type": "code",
   "execution_count": 38,
   "metadata": {
    "colab": {
     "base_uri": "https://localhost:8080/"
    },
    "id": "wLyalVh37Ee2",
    "outputId": "374cd3d6-0760-4544-c1b1-ac3976eeaf8f"
   },
   "outputs": [
    {
     "name": "stdout",
     "output_type": "stream",
     "text": [
      "Accuracy: 0.8203174603174603\n",
      "f1_score: 0.6900328587075575\n"
     ]
    }
   ],
   "source": [
    "from sklearn.neighbors import KNeighborsClassifier\n",
    "from sklearn.metrics import accuracy_score, f1_score\n",
    "from sklearn.feature_selection import SelectKBest, f_classif\n",
    "import numpy as np\n",
    "import cv2\n",
    "\n",
    "# Data augmentation\n",
    "def augment_data(features, labels):\n",
    "    augmented_features = []\n",
    "    augmented_labels = []\n",
    "\n",
    "    for feature, label in zip(features, labels):\n",
    "        augmented_features.append(feature)\n",
    "        augmented_labels.append(label)\n",
    "\n",
    "        # Random horizontal flip\n",
    "        flipped_feature = np.fliplr(feature.reshape((1, -1))).reshape(feature.shape)\n",
    "        augmented_features.append(flipped_feature)\n",
    "        augmented_labels.append(label)\n",
    "\n",
    "        # Random vertical flip\n",
    "        flipped_feature_vert = np.flipud(feature.reshape((1, -1))).reshape(feature.shape)\n",
    "        augmented_features.append(flipped_feature_vert)\n",
    "        augmented_labels.append(label)\n",
    "\n",
    "        # Random rotation (90 degrees clockwise or counter-clockwise)\n",
    "        random_rotation = np.random.randint(2)\n",
    "        if random_rotation == 0:\n",
    "            rotated_feature = cv2.rotate(feature.reshape((1,) + feature.shape), cv2.ROTATE_90_CLOCKWISE)\n",
    "        else:\n",
    "            rotated_feature = cv2.rotate(feature.reshape((1,) + feature.shape), cv2.ROTATE_90_COUNTERCLOCKWISE)\n",
    "        augmented_features.append(rotated_feature.reshape(feature.shape))\n",
    "        augmented_labels.append(label)\n",
    "\n",
    "    return np.array(augmented_features), np.array(augmented_labels)\n",
    "\n",
    "# Assuming you already have x_train_reshaped, y_train, x_test_reshaped, and y_test\n",
    "\n",
    "# Data augmentation\n",
    "x_train_augmented, y_train_augmented = augment_data(x_train_reshaped, y_train)\n",
    "\n",
    "# Feature selection\n",
    "k_features = 950\n",
    "selector = SelectKBest(score_func=f_classif, k=k_features)\n",
    "x_train_selected = selector.fit_transform(x_train_augmented, y_train_augmented)\n",
    "x_test_selected = selector.transform(x_test_reshaped)\n",
    "\n",
    "k = 6\n",
    "knn = KNeighborsClassifier(n_neighbors=k, weights=\"distance\", algorithm=\"auto\", leaf_size=1, p=1, metric=\"manhattan\")\n",
    "\n",
    "# Fit the KNN classifier on the augmented and selected training data\n",
    "knn.fit(x_train_selected, y_train_augmented)\n",
    "\n",
    "# Predict using the KNN classifier and the selected test data\n",
    "y_pred = knn.predict(x_test_selected)\n",
    "\n",
    "# Calculate accuracy and f1_score\n",
    "accuracy = accuracy_score(y_test, y_pred)\n",
    "print(\"Accuracy:\", accuracy)\n",
    "f1 = f1_score(y_test, y_pred)\n",
    "print(\"f1_score:\", f1)\n"
   ]
  },
  {
   "cell_type": "code",
   "execution_count": 135,
   "metadata": {
    "colab": {
     "base_uri": "https://localhost:8080/"
    },
    "id": "NWYrqHm_Jve7",
    "outputId": "0c1b131d-ab37-44cc-e936-a5b2da0978fc"
   },
   "outputs": [
    {
     "name": "stdout",
     "output_type": "stream",
     "text": [
      "Cross-Validation Scores: [0.8244898  0.84897959 0.83265306 0.81768707 0.83265306]\n",
      "Average Accuracy: 0.8312925170068027\n",
      "Accuracy: 0.8196825396825397\n"
     ]
    }
   ],
   "source": [
    "# enquivalent to f_classif\n",
    "from sklearn.neighbors import KNeighborsClassifier\n",
    "from sklearn.metrics import accuracy_score\n",
    "from sklearn.model_selection import cross_val_score\n",
    "from sklearn.feature_selection import SelectKBest,chi2\n",
    "import numpy as np\n",
    "\n",
    "# feature selection\n",
    "k_features = 950\n",
    "selector = SelectKBest(score_func=chi2, k=k_features)\n",
    "x_train_selected = selector.fit_transform(x_train_reshaped, y_train)\n",
    "x_test_selected = selector.transform(x_test_reshaped)\n",
    "\n",
    "k = 6\n",
    "knn = KNeighborsClassifier(n_neighbors=k, weights=\"distance\", algorithm=\"auto\", leaf_size=1, p=1, metric=\"manhattan\")\n",
    "\n",
    "# Perform cross-validation\n",
    "num_folds = 5\n",
    "cv_scores = cross_val_score(knn, x_train_selected, y_train, cv=num_folds)\n",
    "\n",
    "# Print the cross-validation scores\n",
    "print(\"Cross-Validation Scores:\", cv_scores)\n",
    "\n",
    "# Calculate and print the average accuracy across all folds\n",
    "average_accuracy = cv_scores.mean()\n",
    "print(\"Average Accuracy:\", average_accuracy)\n",
    "\n",
    "knn.fit(x_train_selected, y_train)\n",
    "\n",
    "# transform the test set to keep only the selected features\n",
    "x_test_selected = selector.transform(x_test_reshaped)\n",
    "\n",
    "\n",
    "y_pred = knn.predict(x_test_selected)\n",
    "\n",
    "accuracy = accuracy_score(y_test, y_pred)\n",
    "print(\"Accuracy:\", accuracy)\n"
   ]
  },
  {
   "cell_type": "code",
   "execution_count": 147,
   "metadata": {
    "colab": {
     "base_uri": "https://localhost:8080/"
    },
    "id": "FMXX564qMMPd",
    "outputId": "173ab05f-3be7-4914-b8ef-40c4706a40c5"
   },
   "outputs": [
    {
     "name": "stdout",
     "output_type": "stream",
     "text": [
      "Cross-Validation Scores: [0.83809524 0.86394558 0.85170068 0.87619048 0.83265306]\n",
      "Average Accuracy: 0.8525170068027211\n",
      "Accuracy: 0.8273015873015873\n"
     ]
    }
   ],
   "source": [
    "# useless 0.90\n",
    "from sklearn.ensemble import RandomForestClassifier\n",
    "from sklearn.feature_selection import SelectFromModel\n",
    "\n",
    "# Initialize the RandomForestClassifier as the estimator\n",
    "estimator = RandomForestClassifier()\n",
    "\n",
    "# Fit the estimator on the training data\n",
    "estimator.fit(x_train_reshaped, y_train)\n",
    "\n",
    "# Perform feature selection using SelectFromModel\n",
    "selector = SelectFromModel(estimator, threshold='mean', prefit=True)\n",
    "x_train_selected = selector.transform(x_train_reshaped)\n",
    "x_test_selected = selector.transform(x_test_reshaped)\n",
    "\n",
    "# Initialize the KNN classifier\n",
    "k = 6\n",
    "knn = KNeighborsClassifier(n_neighbors=k, weights=\"distance\", algorithm=\"auto\", leaf_size=1, p=1, metric=\"manhattan\")\n",
    "\n",
    "# Perform cross-validation\n",
    "num_folds = 5\n",
    "cv_scores = cross_val_score(knn, x_train_selected, y_train, cv=num_folds)\n",
    "\n",
    "# Print the cross-validation scores\n",
    "print(\"Cross-Validation Scores:\", cv_scores)\n",
    "\n",
    "# Calculate and print the average accuracy across all folds\n",
    "average_accuracy = cv_scores.mean()\n",
    "print(\"Average Accuracy:\", average_accuracy)\n",
    "\n",
    "knn.fit(x_train_selected, y_train)\n",
    "\n",
    "y_pred = knn.predict(x_test_selected)\n",
    "\n",
    "accuracy = accuracy_score(y_test, y_pred)\n",
    "print(\"Accuracy:\", accuracy)\n"
   ]
  },
  {
   "cell_type": "code",
   "execution_count": 151,
   "metadata": {
    "colab": {
     "base_uri": "https://localhost:8080/"
    },
    "id": "QUkIx8QKOGS9",
    "outputId": "cff7ddd3-a40e-4a39-b0fd-4dee6c192d54"
   },
   "outputs": [
    {
     "name": "stdout",
     "output_type": "stream",
     "text": [
      "Cross-Validation Scores: [0.85442177 0.84217687 0.85034014 0.84761905 0.82993197]\n",
      "Average Accuracy: 0.8448979591836736\n",
      "Accuracy: 0.7663492063492063\n"
     ]
    }
   ],
   "source": [
    "from sklearn.ensemble import RandomForestClassifier\n",
    "from sklearn.feature_selection import SelectFromModel\n",
    "\n",
    "# Initialize the RandomForestClassifier as the estimator\n",
    "estimator = RandomForestClassifier()\n",
    "\n",
    "# Fit the estimator on the training data\n",
    "estimator.fit(x_train_reshaped, y_train)\n",
    "\n",
    "# Perform feature selection using SelectFromModel\n",
    "selector = SelectFromModel(estimator, threshold='mean', prefit=True)\n",
    "x_train_selected = selector.transform(x_train_reshaped)\n",
    "x_test_selected = selector.transform(x_test_reshaped)\n",
    "\n",
    "# Initialize the KNN classifier\n",
    "k = 6\n",
    "knn = KNeighborsClassifier(n_neighbors=k, weights=\"distance\", algorithm=\"auto\", leaf_size=1, p=1, metric=\"manhattan\")\n",
    "\n",
    "# Perform cross-validation\n",
    "num_folds = 5\n",
    "cv_scores = cross_val_score(knn, x_train_selected, y_train, cv=num_folds)\n",
    "\n",
    "# Print the cross-validation scores\n",
    "print(\"Cross-Validation Scores:\", cv_scores)\n",
    "\n",
    "# Calculate and print the average accuracy across all folds\n",
    "average_accuracy = cv_scores.mean()\n",
    "print(\"Average Accuracy:\", average_accuracy)\n",
    "\n",
    "knn.fit(x_train_selected, y_train)\n",
    "\n",
    "# Transform the test set to keep only the selected features\n",
    "x_test_selected = selector.transform(x_test_reshaped)\n",
    "\n",
    "y_pred = knn.predict(x_test_selected)\n",
    "\n",
    "accuracy = accuracy_score(y_test, y_pred)\n",
    "print(\"Accuracy:\", accuracy)\n"
   ]
  },
  {
   "cell_type": "code",
   "execution_count": 161,
   "metadata": {
    "colab": {
     "base_uri": "https://localhost:8080/"
    },
    "id": "ruL2cApPPGEC",
    "outputId": "f7c38a23-4c58-45d8-a718-8498eba4065b"
   },
   "outputs": [
    {
     "name": "stdout",
     "output_type": "stream",
     "text": [
      "Cross-Validation Scores: [0.85170068 0.86394558 0.84217687 0.88027211 0.85578231]\n",
      "Average Accuracy: 0.8587755102040816\n",
      "Accuracy: 0.8171428571428572\n",
      "Precision: 0.5996343692870201\n",
      "Recall: 0.8261964735516373\n",
      "F1-Score: 0.6949152542372881\n"
     ]
    }
   ],
   "source": [
    "from sklearn.ensemble import RandomForestClassifier\n",
    "from sklearn.neighbors import KNeighborsClassifier\n",
    "from sklearn.feature_selection import SelectFromModel\n",
    "from sklearn.model_selection import GridSearchCV\n",
    "from sklearn.preprocessing import StandardScaler\n",
    "from sklearn.metrics import accuracy_score, precision_score, recall_score, f1_score\n",
    "import numpy as np\n",
    "\n",
    "# Initialize the RandomForestClassifier as the estimator\n",
    "estimator = RandomForestClassifier()\n",
    "\n",
    "# Fit the estimator on the training data\n",
    "estimator.fit(x_train_reshaped, y_train)\n",
    "\n",
    "# Perform feature selection using SelectFromModel\n",
    "selector = SelectFromModel(estimator, threshold='mean', prefit=True)\n",
    "x_train_selected = selector.transform(x_train_reshaped)\n",
    "x_test_selected = selector.transform(x_test_reshaped)\n",
    "\n",
    "# Perform feature scaling\n",
    "scaler = StandardScaler()\n",
    "x_train_scaled = scaler.fit_transform(x_train_selected)\n",
    "x_test_scaled = scaler.transform(x_test_selected)\n",
    "\n",
    "# Initialize the KNN classifier\n",
    "knn = KNeighborsClassifier()\n",
    "\n",
    "# Perform grid search to find optimal hyperparameters\n",
    "param_grid = {\n",
    "    'n_neighbors': [3, 5, 7, 9],\n",
    "    'weights': ['uniform', 'distance'],\n",
    "    'metric': ['euclidean', 'manhattan']\n",
    "}\n",
    "grid_search = GridSearchCV(knn, param_grid, cv=5)\n",
    "grid_search.fit(x_train_scaled, y_train)\n",
    "\n",
    "# Get the best KNN classifier with optimal hyperparameters\n",
    "knn_best = grid_search.best_estimator_\n",
    "\n",
    "# Perform cross-validation\n",
    "num_folds = 5\n",
    "cv_scores = cross_val_score(knn_best, x_train_scaled, y_train, cv=num_folds)\n",
    "\n",
    "# Print the cross-validation scores\n",
    "print(\"Cross-Validation Scores:\", cv_scores)\n",
    "\n",
    "# Calculate and print the average accuracy across all folds\n",
    "average_accuracy = cv_scores.mean()\n",
    "print(\"Average Accuracy:\", average_accuracy)\n",
    "\n",
    "# Fit the best KNN classifier on the training data\n",
    "knn_best.fit(x_train_scaled, y_train)\n",
    "\n",
    "# Transform the test set to keep only the selected features and perform feature scaling\n",
    "x_test_selected = selector.transform(x_test_reshaped)\n",
    "x_test_scaled = scaler.transform(x_test_selected)\n",
    "\n",
    "# Predict labels for the test set\n",
    "y_pred = knn_best.predict(x_test_scaled)\n",
    "\n",
    "# Evaluate the model using various metrics\n",
    "accuracy = accuracy_score(y_test, y_pred)\n",
    "precision = precision_score(y_test, y_pred)\n",
    "recall = recall_score(y_test, y_pred)\n",
    "f1 = f1_score(y_test, y_pred)\n",
    "\n",
    "print(\"Accuracy:\", accuracy)\n",
    "print(\"Precision:\", precision)\n",
    "print(\"Recall:\", recall)\n",
    "print(\"F1-Score:\", f1)\n"
   ]
  },
  {
   "cell_type": "code",
   "execution_count": 103,
   "metadata": {
    "colab": {
     "base_uri": "https://localhost:8080/"
    },
    "id": "8TLgFCj1p0pC",
    "outputId": "a920bed9-2078-4534-a143-4dd76f01f873"
   },
   "outputs": [
    {
     "name": "stdout",
     "output_type": "stream",
     "text": [
      "Cross-Validation Scores: [0.6952381  0.74693878 0.68027211 0.71836735 0.72789116]\n",
      "Average Accuracy: 0.7137414965986394\n",
      "Accuracy: 0.6584126984126984\n"
     ]
    }
   ],
   "source": [
    "from sklearn.neighbors import KNeighborsClassifier\n",
    "from sklearn.naive_bayes import GaussianNB\n",
    "from sklearn.ensemble import VotingClassifier\n",
    "from sklearn.metrics import accuracy_score\n",
    "from sklearn.model_selection import cross_val_score\n",
    "from sklearn.feature_selection import SelectKBest, f_classif\n",
    "import numpy as np\n",
    "\n",
    "# Pfeature selection\n",
    "k_features = 950\n",
    "selector = SelectKBest(score_func=f_classif, k=k_features)\n",
    "x_train_selected = selector.fit_transform(x_train_reshaped, y_train)\n",
    "x_test_selected = selector.transform(x_test_reshaped)\n",
    "\n",
    "k = 6\n",
    "knn = KNeighborsClassifier(n_neighbors=k, weights=\"distance\", algorithm=\"auto\", leaf_size=1, p=1, metric=\"manhattan\")\n",
    "\n",
    "nb = GaussianNB()\n",
    "\n",
    "classifiers = [(\"KNN\", knn), (\"Naive Bayes\", nb)]\n",
    "ensemble = VotingClassifier(estimators=classifiers, voting=\"hard\")\n",
    "\n",
    "\n",
    "# Perform cross-validation\n",
    "num_folds = 5\n",
    "cv_scores = cross_val_score(knn, x_train_selected, y_train, cv=num_folds)\n",
    "\n",
    "# Print the cross-validation scores\n",
    "print(\"Cross-Validation Scores:\", cv_scores)\n",
    "\n",
    "# Calculate and print the average accuracy across all folds\n",
    "average_accuracy = cv_scores.mean()\n",
    "print(\"Average Accuracy:\", average_accuracy)\n",
    "\n",
    "\n",
    "ensemble.fit(x_train_selected, y_train)\n",
    "\n",
    "# transform the test set to keep only the selected features\n",
    "x_test_selected = selector.transform(x_test_reshaped)\n",
    "\n",
    "y_pred = ensemble.predict(x_test_selected)\n",
    "\n",
    "accuracy = accuracy_score(y_test, y_pred)\n",
    "print(\"Accuracy:\", accuracy)\n"
   ]
  },
  {
   "cell_type": "code",
   "execution_count": null,
   "metadata": {
    "id": "Gvq_xUOj32hc"
   },
   "outputs": [],
   "source": [
    "from sklearn.neighbors import KNeighborsClassifier\n",
    "from sklearn.naive_bayes import GaussianNB\n",
    "from xgboost import XGBClassifier\n",
    "from sklearn.ensemble import StackingClassifier\n",
    "from sklearn.pipeline import make_pipeline\n",
    "from sklearn.metrics import accuracy_score, f1_score\n",
    "from sklearn.model_selection import cross_val_score\n",
    "from sklearn.feature_selection import SelectKBest, f_classif\n",
    "\n",
    "# Feature selection\n",
    "k_features = 950\n",
    "selector = SelectKBest(score_func=f_classif, k=k_features)\n",
    "x_train_selected = selector.fit_transform(x_train_scaled, y_train)\n",
    "x_test_selected = selector.transform(x_test_scaled)\n",
    "\n",
    "# Base models\n",
    "knn = KNeighborsClassifier(n_neighbors=6, weights=\"distance\", algorithm=\"auto\", leaf_size=1, p=1, metric=\"manhattan\")\n",
    "nb = GaussianNB()\n",
    "xgb = XGBClassifier(learning_rate=0.01, n_estimators=200)\n",
    "\n",
    "# Meta-model\n",
    "meta_model = knn\n",
    "\n",
    "# Create the stacking classifier pipeline\n",
    "stacking_pipeline = make_pipeline(\n",
    "    StackingClassifier(\n",
    "        estimators=[('knn', knn), ('nb', nb), ('xgb', xgb)],\n",
    "        final_estimator=meta_model\n",
    "    )\n",
    ")\n",
    "\n",
    "# Perform cross-validation\n",
    "num_folds = 5\n",
    "cv_scores = cross_val_score(stacking_pipeline, x_train_selected, y_train, cv=num_folds)\n",
    "\n",
    "# Print the cross-validation scores\n",
    "print(\"Cross-Validation Scores:\", cv_scores)\n",
    "\n",
    "# Calculate and print the average accuracy across all folds\n",
    "average_accuracy = cv_scores.mean()\n",
    "print(\"Average Accuracy:\", average_accuracy)\n",
    "\n",
    "# Fit the stacking pipeline on the training data\n",
    "stacking_pipeline.fit(x_train_selected, y_train)\n",
    "\n",
    "# Transform the test set to keep only the selected features\n",
    "x_test_selected = selector.transform(x_test_reshaped)\n",
    "\n",
    "# Predict using the stacking pipeline\n",
    "y_pred = stacking_pipeline.predict(x_test_selected)\n",
    "\n",
    "# Evaluate the model\n",
    "accuracy = accuracy_score(y_test, y_pred)\n",
    "print(\"Accuracy:\", accuracy)\n",
    "f1 = f1_score(y_test, y_pred)\n",
    "print(\"F1 Score:\", f1)\n"
   ]
  },
  {
   "cell_type": "code",
   "execution_count": 21,
   "metadata": {
    "colab": {
     "base_uri": "https://localhost:8080/"
    },
    "id": "CmPsOMwNGtZI",
    "outputId": "f1800559-edff-4cbb-df87-9e8ee8c480b1"
   },
   "outputs": [
    {
     "name": "stdout",
     "output_type": "stream",
     "text": [
      "Accuracy: 0.8711111111111111\n",
      "F1 Score: 0.7373868046571799\n"
     ]
    }
   ],
   "source": [
    "from sklearn.neighbors import KNeighborsClassifier\n",
    "from sklearn.naive_bayes import GaussianNB\n",
    "from xgboost import XGBClassifier\n",
    "from sklearn.ensemble import StackingClassifier\n",
    "from sklearn.pipeline import make_pipeline\n",
    "from sklearn.metrics import accuracy_score, f1_score\n",
    "from sklearn.feature_selection import SelectKBest, f_classif\n",
    "\n",
    "# Feature selection\n",
    "k_features = 950\n",
    "selector = SelectKBest(score_func=f_classif, k=k_features)\n",
    "x_train_selected = selector.fit_transform(x_train_scaled, y_train)\n",
    "x_test_selected = selector.transform(x_test_scaled)\n",
    "\n",
    "# Base models\n",
    "knn = KNeighborsClassifier(n_neighbors=6, weights=\"distance\", algorithm=\"auto\", leaf_size=1, p=1, metric=\"manhattan\")\n",
    "nb = GaussianNB()\n",
    "xgb = XGBClassifier(learning_rate=0.01, n_estimators=1000)\n",
    "\n",
    "# Meta-model\n",
    "meta_model = XGBClassifier()\n",
    "\n",
    "# Create the stacking classifier pipeline\n",
    "stacking_pipeline = make_pipeline(\n",
    "    StackingClassifier(\n",
    "        estimators=[('knn', knn), ('nb', nb), ('xgb', xgb)],\n",
    "        final_estimator=meta_model\n",
    "    )\n",
    ")\n",
    "\n",
    "# Fit the stacking pipeline on the training data\n",
    "stacking_pipeline.fit(x_train_selected, y_train)\n",
    "\n",
    "# Transform the test set to keep only the selected features\n",
    "x_test_selected = selector.transform(x_test_scaled)\n",
    "\n",
    "# Predict using the stacking pipeline\n",
    "y_pred = stacking_pipeline.predict(x_test_selected)\n",
    "\n",
    "# Evaluate the model\n",
    "accuracy = accuracy_score(y_test, y_pred)\n",
    "print(\"Accuracy:\", accuracy)\n",
    "f1 = f1_score(y_test, y_pred)\n",
    "print(\"F1 Score:\", f1)\n"
   ]
  },
  {
   "cell_type": "code",
   "execution_count": 117,
   "metadata": {
    "colab": {
     "base_uri": "https://localhost:8080/"
    },
    "id": "SVbMBd9Qu815",
    "outputId": "8820a592-f49d-43a2-bcc3-8a32705d6676"
   },
   "outputs": [
    {
     "name": "stdout",
     "output_type": "stream",
     "text": [
      "Cross-Validation Scores: [0.82312925 0.84489796 0.83401361 0.81632653 0.83537415]\n",
      "Average Accuracy: 0.8307482993197279\n",
      "Accuracy: 0.8082539682539682\n"
     ]
    }
   ],
   "source": [
    "from sklearn.neighbors import KNeighborsClassifier\n",
    "from sklearn.naive_bayes import GaussianNB\n",
    "from sklearn.ensemble import VotingClassifier\n",
    "from sklearn.metrics import accuracy_score\n",
    "from sklearn.model_selection import cross_val_score\n",
    "from sklearn.feature_selection import SelectKBest, f_classif\n",
    "from xgboost import XGBClassifier\n",
    "\n",
    "# feature selection\n",
    "k_features = 950\n",
    "selector = SelectKBest(score_func=f_classif, k=k_features)\n",
    "x_train_selected = selector.fit_transform(x_train_reshaped, y_train)\n",
    "x_test_selected = selector.transform(x_test_reshaped)\n",
    "\n",
    "k = 6\n",
    "knn = KNeighborsClassifier(n_neighbors=k, weights=\"distance\", algorithm=\"auto\", leaf_size=1, p=1, metric=\"manhattan\")\n",
    "nb = GaussianNB(var_smoothing=1e-7)\n",
    "xgb = XGBClassifier(learning_rate=0.01, n_estimators= 200)\n",
    "\n",
    "# combine the classifiers\n",
    "classifiers = [(\"KNN\", knn), (\"Naive Bayes\", nb), (\"XGBoost\", xgb)]\n",
    "ensemble = VotingClassifier(estimators=classifiers, voting=\"hard\")\n",
    "\n",
    "\n",
    "# Perform cross-validation\n",
    "num_folds = 5\n",
    "cv_scores = cross_val_score(ensemble, x_train_selected, y_train, cv=num_folds)\n",
    "\n",
    "# Print the cross-validation scores\n",
    "print(\"Cross-Validation Scores:\", cv_scores)\n",
    "\n",
    "# Calculate and print the average accuracy across all folds\n",
    "average_accuracy = cv_scores.mean()\n",
    "print(\"Average Accuracy:\", average_accuracy)\n",
    "\n",
    "\n",
    "ensemble.fit(x_train_selected, y_train)\n",
    "\n",
    "# transform the test set to keep only the selected features\n",
    "x_test_selected = selector.transform(x_test_reshaped)\n",
    "\n",
    "y_pred = ensemble.predict(x_test_selected)\n",
    "\n",
    "accuracy = accuracy_score(y_test, y_pred)\n",
    "print(\"Accuracy:\", accuracy)\n"
   ]
  },
  {
   "cell_type": "code",
   "execution_count": null,
   "metadata": {
    "id": "5wfB_BuWpLQJ"
   },
   "outputs": [],
   "source": [
    "from sklearn.neighbors import KNeighborsClassifier\n",
    "from sklearn.metrics import accuracy_score\n",
    "from sklearn.model_selection import cross_val_score\n",
    "from sklearn.feature_selection import SelectKBest, f_classif\n",
    "import numpy as np\n",
    "\n",
    "# feature selection\n",
    "k_features = 950\n",
    "selector = SelectKBest(score_func=f_classif, k=k_features)\n",
    "x_train_selected = selector.fit_transform(x_train_reshaped, y_train)\n",
    "x_test_selected = selector.transform(x_test_reshaped)\n",
    "\n",
    "k = 6\n",
    "knn = KNeighborsClassifier(n_neighbors=k, weights=\"distance\", algorithm=\"auto\", leaf_size=1, p=1, metric=\"manhattan\")\n",
    "\n",
    "# Perform cross-validation\n",
    "num_folds = 5\n",
    "cv_scores = cross_val_score(knn, x_train_selected, y_train, cv=num_folds)\n",
    "\n",
    "# Print the cross-validation scores\n",
    "print(\"Cross-Validation Scores:\", cv_scores)\n",
    "\n",
    "# Calculate and print the average accuracy across all folds\n",
    "average_accuracy = cv_scores.mean()\n",
    "print(\"Average Accuracy:\", average_accuracy)\n",
    "\n",
    "knn.fit(x_train_selected, y_train)\n",
    "\n",
    "# transform the test set to keep only the selected features\n",
    "x_test_selected = selector.transform(x_test_reshaped)\n",
    "\n",
    "y_pred = knn.predict(x_test_selected)\n",
    "\n",
    "accuracy = accuracy_score(y_test, y_pred)\n",
    "print(\"Accuracy:\", accuracy)\n"
   ]
  },
  {
   "cell_type": "code",
   "execution_count": 195,
   "metadata": {
    "colab": {
     "base_uri": "https://localhost:8080/"
    },
    "id": "ZVl-FWZ4Ca97",
    "outputId": "e1a09d34-c029-4233-f806-dfaf0cc6a5df"
   },
   "outputs": [
    {
     "name": "stdout",
     "output_type": "stream",
     "text": [
      "Accuracy: 0.8584126984126984\n"
     ]
    }
   ],
   "source": [
    "# use PCA, useless\n",
    "from sklearn.decomposition import PCA\n",
    "# retain components that explain 95% of the variance\n",
    "pca = PCA(n_components=0.95)\n",
    "X_train_pca = pca.fit_transform(x_train_scaled)\n",
    "X_test_pca = pca.transform(x_test_scaled)\n",
    "k = 6\n",
    "knn = KNeighborsClassifier(n_neighbors=k, weights=\"distance\", algorithm=\"auto\", leaf_size=1, p=1, metric=\"manhattan\")\n",
    "knn.fit(x_train_reshaped, y_train)\n",
    "\n",
    "# predict labels for the test set\n",
    "y_pred = knn.predict(x_test_reshaped)\n",
    "\n",
    "# evaluate\n",
    "accuracy = accuracy_score(y_test, y_pred)\n",
    "print(\"Accuracy:\", accuracy)"
   ]
  },
  {
   "cell_type": "code",
   "execution_count": 105,
   "metadata": {
    "colab": {
     "base_uri": "https://localhost:8080/"
    },
    "id": "ZkMrF2QYVxfq",
    "outputId": "80ecfcdf-aafc-4f64-e2b1-7378f311df7e"
   },
   "outputs": [
    {
     "name": "stdout",
     "output_type": "stream",
     "text": [
      "Accuracy: 0.8647619047619047\n"
     ]
    }
   ],
   "source": [
    "# use ensemble, equivalent to k =7\n",
    "from sklearn.ensemble import VotingClassifier\n",
    "# Initialize individual KNN models with different parameter settings\n",
    "knn_model_1 = KNeighborsClassifier(n_neighbors=6, weights=\"distance\", algorithm=\"auto\", leaf_size=1, p=1)\n",
    "knn_model_2 = KNeighborsClassifier(n_neighbors=7, weights=\"distance\", algorithm=\"auto\", leaf_size=1, p=1)\n",
    "knn_model_3 = KNeighborsClassifier(n_neighbors=8, weights=\"distance\", algorithm=\"auto\", leaf_size=1, p=1)\n",
    "knn_model_4 = KNeighborsClassifier(n_neighbors=9, weights=\"distance\", algorithm=\"auto\", leaf_size=1, p=1)\n",
    "knn_model_5 = KNeighborsClassifier(n_neighbors=10, weights=\"distance\", algorithm=\"auto\", leaf_size=1, p=1)\n",
    "\n",
    "# Create the Voting Classifier with the KNN models\n",
    "voting_classifier = VotingClassifier(\n",
    "    estimators=[('knn1', knn_model_1), ('knn2', knn_model_2), ('knn3', knn_model_3), ('knn4', knn_model_4),  ('knn5', knn_model_5) ],\n",
    "    voting='hard'  # 'hard' voting selects the class with the majority of votes\n",
    ")\n",
    "\n",
    "voting_classifier.fit(x_train_reshaped, y_train)\n",
    "# Predict labels for the test set\n",
    "y_pred = voting_classifier.predict(x_test_reshaped)\n",
    "\n",
    "# Evaluate the model\n",
    "accuracy = accuracy_score(y_test, y_pred)\n",
    "print(\"Accuracy:\", accuracy)\n"
   ]
  },
  {
   "cell_type": "code",
   "execution_count": 196,
   "metadata": {
    "colab": {
     "base_uri": "https://localhost:8080/"
    },
    "id": "Pm87UMQMpIt6",
    "outputId": "3988d1cb-491d-45f5-96c9-2717348878bb"
   },
   "outputs": [
    {
     "name": "stdout",
     "output_type": "stream",
     "text": [
      "Classification Report:\n",
      "              precision    recall  f1-score   support\n",
      "\n",
      "           0       0.92      0.89      0.90      1178\n",
      "           1       0.70      0.77      0.73       397\n",
      "\n",
      "    accuracy                           0.86      1575\n",
      "   macro avg       0.81      0.83      0.82      1575\n",
      "weighted avg       0.86      0.86      0.86      1575\n",
      "\n"
     ]
    }
   ],
   "source": [
    "# Print additional evaluation metrics\n",
    "from sklearn.metrics import classification_report\n",
    "\n",
    "report = classification_report(y_test, y_pred)\n",
    "print(\"Classification Report:\")\n",
    "print(report)"
   ]
  },
  {
   "cell_type": "code",
   "execution_count": null,
   "metadata": {
    "colab": {
     "base_uri": "https://localhost:8080/"
    },
    "id": "e_UYXM718pqX",
    "outputId": "ba09a65a-0df4-4fa3-8be0-ab1b3bb6a5d0"
   },
   "outputs": [
    {
     "name": "stdout",
     "output_type": "stream",
     "text": [
      "Accuracy: 0.8755555555555555\n"
     ]
    }
   ],
   "source": [
    "from sklearn.neighbors import KNeighborsClassifier\n",
    "from sklearn.ensemble import VotingClassifier\n",
    "from sklearn.decomposition import PCA\n",
    "from sklearn.model_selection import GridSearchCV\n",
    "from sklearn.metrics import accuracy_score\n",
    "from sklearn.metrics import classification_report\n",
    "\n",
    "# Define the base KNN model\n",
    "knn = KNeighborsClassifier()\n",
    "\n",
    "# Define the PCA transformer\n",
    "pca = PCA(n_components=10)  # Adjust the number of components based on your data\n",
    "\n",
    "# Define the ensemble classifier\n",
    "ensemble = VotingClassifier([('knn', knn)], voting='hard')\n",
    "\n",
    "# Define the parameter grid for hyperparameter tuning\n",
    "param_grid = {\n",
    "    'knn__n_neighbors': [5, 7, 10],  # Adjust the range based on your data\n",
    "    'knn__weights': ['uniform', 'distance'],\n",
    "    'algorithm': ['auto', 'ball_tree', 'kd_tree', 'brute'],\n",
    "    'leaf_size': range(1, 100, 1000),\n",
    "    'p': [1]\n",
    "}\n",
    "\n",
    "# Perform hyperparameter tuning with cross-validation\n",
    "grid_search = GridSearchCV(ensemble, param_grid, cv=5)\n",
    "grid_search.fit(x_train, y_train)\n",
    "\n",
    "# Get the best hyperparameters\n",
    "best_params = grid_search.best_params_\n",
    "print(best_params)\n",
    "\n",
    "# Train the ensemble classifier with the best hyperparameters\n",
    "ensemble.set_params(**best_params)\n",
    "ensemble.fit(pca.fit_transform(x_train), y_train)\n",
    "\n",
    "# Predict labels for the test set\n",
    "y_pred = ensemble.predict(pca.transform(x_test))\n",
    "\n",
    "# Evaluate the model\n",
    "# accuracy = accuracy_score(y_test, y_pred)\n",
    "# print(\"Accuracy:\", accuracy)\n",
    "print(\"classification_report = \\n\",classification_report(y_test, y_pred))\n",
    "\n"
   ]
  },
  {
   "cell_type": "code",
   "execution_count": null,
   "metadata": {
    "colab": {
     "base_uri": "https://localhost:8080/"
    },
    "id": "Q9Cx8VNE9xYe",
    "outputId": "c6d04b10-ab6d-4adf-bc07-ea8d037d94df"
   },
   "outputs": [
    {
     "name": "stdout",
     "output_type": "stream",
     "text": [
      "[21:17:59] WARNING: ../src/learner.cc:767: \n",
      "Parameters: { \"base_estimator\" } are not used.\n",
      "\n",
      "Accuracy: 0.8514285714285714\n"
     ]
    }
   ],
   "source": [
    "from sklearn.neighbors import KNeighborsClassifier\n",
    "from xgboost import XGBClassifier\n",
    "from sklearn.metrics import accuracy_score\n",
    "\n",
    "# Initialize the base KNN model\n",
    "k = 20  # Number of neighbors to consider\n",
    "knn = KNeighborsClassifier(n_neighbors=k)\n",
    "\n",
    "boosted_knn = XGBClassifier(base_estimator=knn, n_estimators=10)\n",
    "boosted_knn.fit(x_train_reshaped, y_train)\n",
    "\n",
    "# Predict labels for the test set\n",
    "y_pred = boosted_knn.predict(x_test_reshaped)\n",
    "\n",
    "# Evaluate the model\n",
    "accuracy = accuracy_score(y_test, y_pred)\n",
    "print(\"Accuracy:\", accuracy)\n"
   ]
  },
  {
   "cell_type": "code",
   "execution_count": 97,
   "metadata": {
    "colab": {
     "base_uri": "https://localhost:8080/"
    },
    "id": "SjroLVvcNURX",
    "outputId": "053b8a19-4e26-49bf-9c57-33e15182ec2a"
   },
   "outputs": [
    {
     "name": "stdout",
     "output_type": "stream",
     "text": [
      "[21:40:48] WARNING: ../src/learner.cc:767: \n",
      "Parameters: { \"base_estimator\" } are not used.\n",
      "\n",
      "Accuracy: 0.8114285714285714\n"
     ]
    }
   ],
   "source": [
    "from sklearn.neighbors import KNeighborsClassifier, NeighborhoodComponentsAnalysis\n",
    "from xgboost import XGBClassifier\n",
    "from sklearn.metrics import accuracy_score\n",
    "from sklearn.pipeline import Pipeline\n",
    "\n",
    "# Initialize the base KNN model\n",
    "k = 6  # Number of neighbors to consider\n",
    "knn = KNeighborsClassifier(n_neighbors=k, weights=\"distance\", algorithm=\"auto\", leaf_size=1, p=1)\n",
    "nca = NeighborhoodComponentsAnalysis(random_state=42)\n",
    "boosted_knn = XGBClassifier(base_estimator=knn, n_estimators=10)\n",
    "nca_pipe = Pipeline([('nca', nca), ('knn', boosted_knn)])\n",
    "nca_pipe.fit(x_train_reshaped, y_train)\n",
    "\n",
    "# Predict labels for the test set\n",
    "y_pred = boosted_knn.predict(x_test_reshaped)\n",
    "\n",
    "# Evaluate the model\n",
    "accuracy = accuracy_score(y_test, y_pred)\n",
    "print(\"Accuracy:\", accuracy)"
   ]
  },
  {
   "cell_type": "code",
   "execution_count": null,
   "metadata": {
    "colab": {
     "base_uri": "https://localhost:8080/",
     "height": 75
    },
    "id": "DjUwxRyTapr9",
    "outputId": "65123c10-2e06-4ac1-8b55-729b3adae27b"
   },
   "outputs": [
    {
     "data": {
      "text/html": [
       "<style>#sk-container-id-5 {color: black;background-color: white;}#sk-container-id-5 pre{padding: 0;}#sk-container-id-5 div.sk-toggleable {background-color: white;}#sk-container-id-5 label.sk-toggleable__label {cursor: pointer;display: block;width: 100%;margin-bottom: 0;padding: 0.3em;box-sizing: border-box;text-align: center;}#sk-container-id-5 label.sk-toggleable__label-arrow:before {content: \"▸\";float: left;margin-right: 0.25em;color: #696969;}#sk-container-id-5 label.sk-toggleable__label-arrow:hover:before {color: black;}#sk-container-id-5 div.sk-estimator:hover label.sk-toggleable__label-arrow:before {color: black;}#sk-container-id-5 div.sk-toggleable__content {max-height: 0;max-width: 0;overflow: hidden;text-align: left;background-color: #f0f8ff;}#sk-container-id-5 div.sk-toggleable__content pre {margin: 0.2em;color: black;border-radius: 0.25em;background-color: #f0f8ff;}#sk-container-id-5 input.sk-toggleable__control:checked~div.sk-toggleable__content {max-height: 200px;max-width: 100%;overflow: auto;}#sk-container-id-5 input.sk-toggleable__control:checked~label.sk-toggleable__label-arrow:before {content: \"▾\";}#sk-container-id-5 div.sk-estimator input.sk-toggleable__control:checked~label.sk-toggleable__label {background-color: #d4ebff;}#sk-container-id-5 div.sk-label input.sk-toggleable__control:checked~label.sk-toggleable__label {background-color: #d4ebff;}#sk-container-id-5 input.sk-hidden--visually {border: 0;clip: rect(1px 1px 1px 1px);clip: rect(1px, 1px, 1px, 1px);height: 1px;margin: -1px;overflow: hidden;padding: 0;position: absolute;width: 1px;}#sk-container-id-5 div.sk-estimator {font-family: monospace;background-color: #f0f8ff;border: 1px dotted black;border-radius: 0.25em;box-sizing: border-box;margin-bottom: 0.5em;}#sk-container-id-5 div.sk-estimator:hover {background-color: #d4ebff;}#sk-container-id-5 div.sk-parallel-item::after {content: \"\";width: 100%;border-bottom: 1px solid gray;flex-grow: 1;}#sk-container-id-5 div.sk-label:hover label.sk-toggleable__label {background-color: #d4ebff;}#sk-container-id-5 div.sk-serial::before {content: \"\";position: absolute;border-left: 1px solid gray;box-sizing: border-box;top: 0;bottom: 0;left: 50%;z-index: 0;}#sk-container-id-5 div.sk-serial {display: flex;flex-direction: column;align-items: center;background-color: white;padding-right: 0.2em;padding-left: 0.2em;position: relative;}#sk-container-id-5 div.sk-item {position: relative;z-index: 1;}#sk-container-id-5 div.sk-parallel {display: flex;align-items: stretch;justify-content: center;background-color: white;position: relative;}#sk-container-id-5 div.sk-item::before, #sk-container-id-5 div.sk-parallel-item::before {content: \"\";position: absolute;border-left: 1px solid gray;box-sizing: border-box;top: 0;bottom: 0;left: 50%;z-index: -1;}#sk-container-id-5 div.sk-parallel-item {display: flex;flex-direction: column;z-index: 1;position: relative;background-color: white;}#sk-container-id-5 div.sk-parallel-item:first-child::after {align-self: flex-end;width: 50%;}#sk-container-id-5 div.sk-parallel-item:last-child::after {align-self: flex-start;width: 50%;}#sk-container-id-5 div.sk-parallel-item:only-child::after {width: 0;}#sk-container-id-5 div.sk-dashed-wrapped {border: 1px dashed gray;margin: 0 0.4em 0.5em 0.4em;box-sizing: border-box;padding-bottom: 0.4em;background-color: white;}#sk-container-id-5 div.sk-label label {font-family: monospace;font-weight: bold;display: inline-block;line-height: 1.2em;}#sk-container-id-5 div.sk-label-container {text-align: center;}#sk-container-id-5 div.sk-container {/* jupyter's `normalize.less` sets `[hidden] { display: none; }` but bootstrap.min.css set `[hidden] { display: none !important; }` so we also need the `!important` here to be able to override the default hidden behavior on the sphinx rendered scikit-learn.org. See: https://github.com/scikit-learn/scikit-learn/issues/21755 */display: inline-block !important;position: relative;}#sk-container-id-5 div.sk-text-repr-fallback {display: none;}</style><div id=\"sk-container-id-5\" class=\"sk-top-container\"><div class=\"sk-text-repr-fallback\"><pre>KNeighborsClassifier(n_neighbors=6)</pre><b>In a Jupyter environment, please rerun this cell to show the HTML representation or trust the notebook. <br />On GitHub, the HTML representation is unable to render, please try loading this page with nbviewer.org.</b></div><div class=\"sk-container\" hidden><div class=\"sk-item\"><div class=\"sk-estimator sk-toggleable\"><input class=\"sk-toggleable__control sk-hidden--visually\" id=\"sk-estimator-id-5\" type=\"checkbox\" checked><label for=\"sk-estimator-id-5\" class=\"sk-toggleable__label sk-toggleable__label-arrow\">KNeighborsClassifier</label><div class=\"sk-toggleable__content\"><pre>KNeighborsClassifier(n_neighbors=6)</pre></div></div></div></div></div>"
      ],
      "text/plain": [
       "KNeighborsClassifier(n_neighbors=6)"
      ]
     },
     "execution_count": 38,
     "metadata": {},
     "output_type": "execute_result"
    }
   ],
   "source": [
    "from sklearn.neighbors import KNeighborsClassifier\n",
    "\n",
    "k = 6\n",
    "knn = KNeighborsClassifier(n_neighbors=k)\n",
    "knn.fit(x_train, y_train)"
   ]
  },
  {
   "cell_type": "markdown",
   "metadata": {
    "id": "eKbEw3Yrh1gi"
   },
   "source": [
    "### CNN"
   ]
  },
  {
   "cell_type": "code",
   "execution_count": null,
   "metadata": {
    "id": "zjvzwaxrsX8l"
   },
   "outputs": [],
   "source": [
    "print(x_train)"
   ]
  },
  {
   "cell_type": "code",
   "execution_count": null,
   "metadata": {
    "id": "SUPovhDUzuRQ"
   },
   "outputs": [],
   "source": [
    "x_train_value = x_train.values\n",
    "x_train = np.reshape(x_train_value, (5250, 20, 20, 3))"
   ]
  },
  {
   "cell_type": "code",
   "execution_count": null,
   "metadata": {
    "id": "XtTsk7-Ohw4N"
   },
   "outputs": [],
   "source": [
    "# Create the CNN model\n",
    "import tensorflow as tf\n",
    "from keras.models import Sequential\n",
    "from sklearn.metrics import f1_score\n",
    "from keras.layers import Dense, Dropout, Activation, Flatten\n",
    "from keras.layers import Conv2D, MaxPooling2D\n",
    "\n",
    "model = Sequential()\n",
    "model.add(Conv2D(32, (3, 3), padding='same', activation='relu', input_shape=(20, 20, 3)))\n",
    "model.add(MaxPooling2D((2, 2), strides=2))\n",
    "model.add(Conv2D(64, (3, 3), padding='same', activation='relu'))\n",
    "model.add(MaxPooling2D((2, 2), strides=2))\n",
    "model.add(Flatten())\n",
    "model.add(Dense(1024, activation='relu'))\n",
    "model.add(Dense(1, activation='sigmoid'))"
   ]
  },
  {
   "cell_type": "code",
   "execution_count": null,
   "metadata": {
    "colab": {
     "base_uri": "https://localhost:8080/"
    },
    "id": "Vgn3js1IiIjS",
    "outputId": "3b6f1bb4-ec0c-490f-c65d-094ac39cde08"
   },
   "outputs": [
    {
     "name": "stdout",
     "output_type": "stream",
     "text": [
      "Epoch 1/10\n",
      "165/165 [==============================] - 10s 55ms/step - loss: 0.4634 - accuracy: 0.7823\n",
      "Epoch 2/10\n",
      "165/165 [==============================] - 7s 42ms/step - loss: 0.3337 - accuracy: 0.8457\n",
      "Epoch 3/10\n",
      "165/165 [==============================] - 9s 54ms/step - loss: 0.2809 - accuracy: 0.8730\n",
      "Epoch 4/10\n",
      "165/165 [==============================] - 7s 42ms/step - loss: 0.2396 - accuracy: 0.8945\n",
      "Epoch 5/10\n",
      "165/165 [==============================] - 9s 54ms/step - loss: 0.1849 - accuracy: 0.9221\n",
      "Epoch 6/10\n",
      "165/165 [==============================] - 7s 42ms/step - loss: 0.1353 - accuracy: 0.9467\n",
      "Epoch 7/10\n",
      "165/165 [==============================] - 9s 53ms/step - loss: 0.1505 - accuracy: 0.9370\n",
      "Epoch 8/10\n",
      "165/165 [==============================] - 7s 45ms/step - loss: 0.0823 - accuracy: 0.9669\n",
      "Epoch 9/10\n",
      "165/165 [==============================] - 8s 51ms/step - loss: 0.0367 - accuracy: 0.9891\n",
      "Epoch 10/10\n",
      "165/165 [==============================] - 8s 49ms/step - loss: 0.0141 - accuracy: 0.9975\n",
      "Accuracy: 0.9986666440963745\n"
     ]
    }
   ],
   "source": [
    "# Compile the model\n",
    "model.compile(loss='binary_crossentropy', optimizer='adam', metrics=['accuracy'])\n",
    "y_train = np.array(y_train)\n",
    "# Train the model\n",
    "model.fit(x_train, y_train, epochs=10, )\n",
    "\n",
    "# Evaluate the model\n",
    "score = model.evaluate(x_train, y_train, verbose=0)\n",
    "print('Accuracy:', score[1])\n",
    "\n",
    "# Save the model\n",
    "model.save('model.h5')"
   ]
  },
  {
   "cell_type": "markdown",
   "metadata": {
    "id": "1jrCoJJDx1T4"
   },
   "source": [
    "## use test dataset"
   ]
  },
  {
   "cell_type": "code",
   "execution_count": null,
   "metadata": {
    "id": "B0eLjtfd8198"
   },
   "outputs": [],
   "source": [
    "y_graboost_test = clf.predict(df_test)\n"
   ]
  },
  {
   "cell_type": "code",
   "execution_count": null,
   "metadata": {
    "id": "lFaniiDl6Ame"
   },
   "outputs": [],
   "source": [
    "y_knn_test = knn.predict(df_test_reshaped)"
   ]
  },
  {
   "cell_type": "code",
   "execution_count": 95,
   "metadata": {
    "id": "4wQkZb8y69TH"
   },
   "outputs": [],
   "source": [
    "y_knn_test = boosted_knn.predict(df_test)"
   ]
  },
  {
   "cell_type": "code",
   "execution_count": 54,
   "metadata": {
    "id": "qJf2ETlpZq5y"
   },
   "outputs": [],
   "source": [
    "df_test_selected = selector.transform(df_test_reshaped)"
   ]
  },
  {
   "cell_type": "code",
   "execution_count": 25,
   "metadata": {
    "id": "74kIlhdKKUxN"
   },
   "outputs": [],
   "source": [
    "df_test_selected = selector.transform(df_test_scaled)"
   ]
  },
  {
   "cell_type": "code",
   "execution_count": 212,
   "metadata": {
    "id": "CGJ1--DuW9v8"
   },
   "outputs": [],
   "source": [
    "y_knn_test = voting_classifier.predict(df_test_reshaped)"
   ]
  },
  {
   "cell_type": "code",
   "execution_count": 119,
   "metadata": {
    "id": "CTY_l0q_27si"
   },
   "outputs": [],
   "source": [
    "y_knn_test = ensemble.predict(df_test_selected)"
   ]
  },
  {
   "cell_type": "code",
   "execution_count": 55,
   "metadata": {
    "id": "t-MWlk8sKss4"
   },
   "outputs": [],
   "source": [
    "y_knn_test = knn.predict(df_test_selected)"
   ]
  },
  {
   "cell_type": "code",
   "execution_count": 162,
   "metadata": {
    "id": "OazTOcBwQvhS"
   },
   "outputs": [],
   "source": [
    "df_test_selected = selector.transform(df_test_reshaped)\n",
    "df_test_scaled = scaler.transform(df_test_selected)"
   ]
  },
  {
   "cell_type": "code",
   "execution_count": 163,
   "metadata": {
    "id": "kmCc4kWKQPYl"
   },
   "outputs": [],
   "source": [
    "y_knn_test = knn_best.predict(df_test_selected)"
   ]
  },
  {
   "cell_type": "code",
   "execution_count": 48,
   "metadata": {
    "id": "gpQ0k7sDKYEE"
   },
   "outputs": [],
   "source": [
    "y_knn_test = stacking_pipeline.predict(df_test_selected)"
   ]
  },
  {
   "cell_type": "code",
   "execution_count": 145,
   "metadata": {
    "colab": {
     "base_uri": "https://localhost:8080/"
    },
    "id": "sFpDo-_LXuuz",
    "outputId": "4eac6d78-9bfa-4523-c5bf-e8f5b5e1f396"
   },
   "outputs": [
    {
     "name": "stdout",
     "output_type": "stream",
     "text": [
      "(2250,)\n"
     ]
    }
   ],
   "source": [
    "print(y_knn_test.shape)"
   ]
  },
  {
   "cell_type": "markdown",
   "metadata": {
    "id": "_luGdNhKjWPy"
   },
   "source": [
    "#### use full train set"
   ]
  },
  {
   "cell_type": "code",
   "execution_count": null,
   "metadata": {
    "id": "7g0-uF04ogos"
   },
   "outputs": [],
   "source": [
    "print(df_test)"
   ]
  },
  {
   "cell_type": "code",
   "execution_count": null,
   "metadata": {
    "id": "zFT7VTIz2Gnt"
   },
   "outputs": [],
   "source": [
    "# add addtional preprocessing\n",
    "df_test_value = df_test.values\n",
    "df_test = np.reshape(df_test_value, (2250, 20, 20, 3))"
   ]
  },
  {
   "cell_type": "code",
   "execution_count": null,
   "metadata": {
    "colab": {
     "base_uri": "https://localhost:8080/"
    },
    "id": "9Py4SHmZ1hpX",
    "outputId": "55c5325e-c639-453f-8b4f-7518b52f9a0a"
   },
   "outputs": [
    {
     "name": "stdout",
     "output_type": "stream",
     "text": [
      "71/71 [==============================] - 1s 17ms/step\n"
     ]
    }
   ],
   "source": [
    "y_pred = model.predict(df_test)"
   ]
  },
  {
   "cell_type": "code",
   "execution_count": null,
   "metadata": {
    "id": "d18e9Y2g4BKW"
   },
   "outputs": [],
   "source": [
    "y_pred = np.round(y_pred).astype(int)"
   ]
  },
  {
   "cell_type": "code",
   "execution_count": null,
   "metadata": {
    "id": "X8l414R25aVA"
   },
   "outputs": [],
   "source": [
    "y_cnn = np.ravel(y_pred).tolist()"
   ]
  },
  {
   "cell_type": "code",
   "execution_count": null,
   "metadata": {
    "colab": {
     "base_uri": "https://localhost:8080/"
    },
    "id": "mLXYomyj581B",
    "outputId": "0cf23825-d151-4fc7-d7f6-5af627c134c6"
   },
   "outputs": [
    {
     "name": "stdout",
     "output_type": "stream",
     "text": [
      "[0, 0, 1, 0, 0, 0, 0, 0, 0, 0, 0, 0, 0, 0, 0, 1, 1, 0, 0, 0, 0, 0, 0, 0, 0, 0, 0, 0, 0, 0, 0, 0, 0, 0, 1, 0, 0, 0, 1, 0, 0, 1, 0, 0, 0, 0, 1, 0, 0, 0, 0, 0, 1, 0, 0, 0, 0, 1, 1, 0, 0, 0, 0, 0, 0, 0, 1, 0, 0, 0, 0, 0, 0, 0, 0, 0, 0, 0, 0, 0, 0, 0, 0, 1, 0, 0, 0, 0, 0, 0, 0, 1, 1, 1, 0, 0, 0, 1, 0, 0, 0, 0, 0, 1, 0, 0, 0, 0, 0, 0, 0, 0, 0, 0, 0, 0, 0, 1, 0, 1, 0, 0, 0, 0, 1, 0, 0, 1, 1, 0, 0, 0, 0, 0, 0, 0, 1, 0, 0, 0, 0, 0, 0, 0, 0, 1, 0, 1, 0, 1, 0, 0, 1, 0, 1, 0, 0, 0, 1, 1, 0, 0, 0, 0, 1, 0, 0, 1, 0, 0, 0, 0, 0, 0, 0, 0, 0, 0, 0, 0, 1, 0, 0, 0, 0, 0, 0, 1, 1, 0, 0, 0, 0, 0, 0, 0, 0, 0, 1, 0, 0, 0, 0, 0, 1, 0, 0, 1, 1, 0, 0, 1, 0, 0, 0, 0, 0, 1, 0, 0, 0, 0, 0, 0, 0, 0, 0, 0, 1, 0, 0, 0, 0, 0, 0, 0, 1, 0, 0, 1, 0, 0, 0, 0, 0, 0, 0, 0, 1, 0, 0, 0, 0, 0, 0, 0, 0, 0, 1, 0, 0, 0, 0, 0, 0, 0, 0, 0, 1, 1, 0, 0, 0, 0, 1, 0, 0, 0, 0, 0, 0, 0, 0, 0, 0, 0, 0, 0, 1, 1, 0, 0, 0, 0, 0, 0, 0, 0, 0, 0, 0, 0, 0, 0, 0, 0, 0, 1, 0, 0, 0, 0, 0, 0, 0, 0, 0, 1, 0, 0, 1, 1, 0, 0, 0, 1, 0, 0, 0, 0, 0, 0, 0, 0, 0, 0, 0, 0, 0, 0, 1, 1, 0, 0, 0, 0, 0, 0, 0, 0, 0, 0, 0, 0, 0, 0, 0, 0, 0, 0, 0, 0, 0, 1, 0, 0, 0, 0, 0, 1, 0, 0, 0, 0, 0, 0, 0, 0, 0, 0, 1, 0, 0, 0, 0, 0, 0, 0, 0, 0, 0, 0, 0, 0, 0, 0, 0, 0, 1, 0, 0, 0, 0, 0, 1, 0, 0, 0, 0, 0, 0, 0, 1, 1, 0, 0, 0, 0, 1, 0, 1, 0, 0, 0, 0, 0, 0, 0, 0, 0, 0, 0, 0, 0, 0, 0, 0, 0, 0, 0, 0, 0, 0, 0, 0, 0, 0, 0, 0, 0, 0, 0, 1, 0, 0, 1, 0, 0, 0, 0, 0, 0, 1, 0, 0, 0, 0, 0, 0, 0, 0, 0, 0, 0, 0, 0, 0, 0, 0, 0, 0, 0, 0, 0, 0, 0, 1, 0, 1, 0, 0, 0, 0, 0, 0, 0, 0, 0, 0, 0, 0, 0, 0, 0, 0, 0, 0, 0, 0, 0, 0, 1, 0, 0, 0, 0, 0, 0, 0, 0, 0, 0, 0, 1, 0, 0, 0, 0, 0, 0, 0, 1, 0, 0, 0, 1, 0, 1, 0, 1, 0, 0, 0, 1, 0, 0, 0, 0, 0, 0, 0, 0, 0, 1, 0, 0, 0, 0, 0, 0, 1, 0, 0, 0, 0, 0, 0, 0, 1, 0, 0, 0, 0, 1, 0, 0, 0, 1, 0, 0, 0, 1, 0, 0, 0, 0, 0, 1, 0, 0, 0, 0, 0, 0, 0, 0, 0, 0, 0, 0, 0, 0, 0, 0, 0, 0, 0, 0, 1, 1, 0, 0, 0, 0, 0, 0, 0, 0, 0, 0, 0, 0, 0, 0, 1, 0, 0, 0, 1, 0, 0, 0, 1, 1, 1, 1, 0, 0, 0, 0, 1, 1, 0, 1, 0, 0, 0, 0, 0, 0, 1, 0, 0, 0, 0, 0, 0, 0, 0, 0, 0, 0, 0, 0, 1, 0, 0, 0, 1, 0, 0, 0, 1, 0, 0, 0, 0, 0, 1, 0, 1, 1, 0, 0, 0, 0, 0, 0, 0, 0, 0, 0, 0, 1, 0, 0, 0, 0, 0, 0, 0, 0, 0, 0, 0, 0, 0, 1, 1, 0, 0, 0, 0, 0, 0, 0, 0, 0, 1, 0, 0, 0, 0, 0, 0, 0, 0, 0, 1, 0, 0, 0, 0, 0, 0, 0, 0, 0, 0, 0, 0, 0, 0, 0, 0, 0, 0, 0, 1, 0, 1, 0, 0, 0, 0, 0, 1, 0, 0, 1, 0, 0, 0, 0, 0, 0, 0, 0, 0, 1, 0, 0, 0, 0, 1, 0, 0, 1, 0, 0, 0, 0, 0, 0, 0, 0, 0, 0, 0, 0, 0, 1, 1, 0, 1, 0, 1, 0, 0, 1, 0, 1, 0, 0, 0, 0, 0, 0, 0, 0, 1, 0, 0, 0, 0, 1, 1, 0, 1, 0, 0, 0, 0, 0, 1, 0, 0, 0, 0, 0, 0, 0, 1, 0, 0, 0, 1, 0, 0, 1, 0, 1, 0, 0, 0, 0, 0, 0, 1, 1, 1, 0, 0, 1, 0, 0, 1, 0, 0, 0, 0, 0, 0, 1, 0, 0, 0, 0, 0, 1, 0, 0, 0, 0, 0, 1, 0, 0, 0, 0, 0, 1, 0, 0, 1, 0, 0, 0, 1, 0, 1, 0, 0, 0, 0, 0, 0, 1, 0, 0, 0, 1, 0, 0, 0, 0, 0, 1, 0, 0, 0, 0, 0, 0, 0, 0, 0, 1, 0, 0, 0, 0, 1, 1, 0, 0, 0, 0, 1, 1, 0, 0, 0, 1, 0, 0, 0, 1, 0, 0, 0, 0, 0, 0, 0, 0, 0, 0, 0, 0, 0, 0, 0, 0, 0, 0, 0, 0, 0, 0, 0, 0, 0, 0, 0, 0, 1, 1, 0, 0, 0, 0, 0, 0, 0, 0, 0, 0, 0, 0, 0, 0, 1, 0, 0, 0, 1, 1, 0, 0, 0, 0, 1, 0, 0, 0, 0, 0, 0, 0, 0, 0, 0, 0, 0, 0, 0, 1, 0, 0, 0, 0, 0, 0, 0, 0, 0, 0, 0, 0, 0, 0, 0, 0, 0, 0, 0, 0, 0, 0, 0, 0, 0, 1, 1, 0, 0, 0, 0, 0, 1, 0, 0, 0, 0, 0, 0, 1, 0, 0, 1, 0, 0, 0, 0, 1, 0, 0, 0, 1, 0, 0, 0, 0, 1, 0, 0, 0, 0, 0, 1, 0, 1, 0, 0, 0, 0, 0, 1, 0, 0, 1, 0, 0, 1, 0, 0, 0, 0, 1, 0, 0, 0, 0, 0, 0, 0, 0, 0, 0, 0, 0, 1, 0, 0, 0, 1, 0, 0, 0, 0, 0, 0, 1, 0, 0, 0, 1, 0, 0, 0, 1, 0, 0, 0, 1, 1, 0, 1, 0, 0, 1, 0, 0, 0, 0, 0, 0, 0, 0, 0, 0, 0, 1, 1, 0, 1, 0, 0, 0, 0, 0, 0, 0, 0, 0, 0, 1, 0, 1, 0, 0, 0, 0, 0, 1, 0, 1, 0, 0, 0, 0, 0, 0, 0, 1, 0, 0, 0, 0, 0, 0, 0, 0, 0, 0, 0, 0, 0, 0, 0, 0, 0, 0, 0, 0, 0, 0, 0, 0, 1, 0, 0, 0, 0, 0, 0, 0, 1, 0, 1, 0, 0, 0, 0, 0, 0, 1, 0, 1, 0, 0, 0, 0, 0, 0, 0, 0, 1, 1, 0, 0, 0, 0, 1, 0, 0, 0, 0, 0, 0, 1, 0, 0, 0, 0, 1, 0, 0, 0, 1, 0, 0, 0, 0, 0, 0, 1, 0, 0, 0, 0, 1, 1, 0, 0, 0, 0, 1, 0, 0, 0, 0, 1, 0, 0, 1, 0, 0, 0, 0, 0, 0, 0, 0, 0, 0, 0, 0, 0, 0, 1, 0, 0, 0, 1, 0, 0, 0, 0, 1, 0, 1, 0, 1, 0, 0, 1, 0, 1, 0, 0, 0, 0, 0, 0, 0, 0, 1, 0, 0, 0, 0, 0, 1, 0, 0, 0, 1, 0, 0, 0, 1, 0, 0, 0, 0, 0, 0, 1, 0, 1, 0, 0, 0, 0, 0, 0, 0, 1, 0, 1, 1, 0, 0, 1, 0, 0, 0, 0, 0, 0, 0, 0, 1, 0, 0, 1, 0, 0, 0, 1, 0, 0, 1, 1, 0, 1, 0, 0, 0, 0, 0, 1, 0, 0, 1, 1, 1, 0, 1, 1, 0, 0, 0, 1, 0, 1, 0, 1, 1, 0, 0, 0, 0, 0, 1, 0, 0, 0, 0, 0, 1, 0, 0, 0, 1, 0, 0, 0, 1, 0, 0, 0, 0, 0, 1, 0, 0, 0, 1, 1, 0, 0, 0, 0, 0, 1, 0, 0, 1, 0, 1, 0, 1, 1, 1, 0, 0, 0, 0, 0, 0, 0, 0, 0, 1, 0, 0, 1, 0, 0, 0, 0, 0, 0, 0, 1, 0, 0, 1, 0, 0, 0, 0, 0, 0, 0, 1, 1, 0, 0, 0, 0, 0, 1, 1, 0, 0, 0, 0, 1, 1, 1, 1, 0, 0, 1, 0, 0, 0, 0, 0, 0, 0, 0, 0, 0, 0, 0, 0, 0, 0, 1, 0, 0, 0, 0, 1, 0, 0, 1, 0, 0, 0, 1, 0, 0, 0, 0, 0, 0, 0, 0, 0, 0, 0, 0, 1, 0, 1, 1, 0, 0, 1, 0, 1, 0, 1, 0, 0, 0, 1, 0, 0, 0, 0, 1, 0, 1, 0, 1, 1, 0, 0, 0, 1, 1, 1, 0, 0, 0, 0, 0, 1, 0, 0, 0, 0, 0, 0, 0, 0, 0, 1, 0, 1, 0, 1, 0, 1, 0, 0, 0, 0, 0, 0, 0, 0, 1, 0, 0, 0, 1, 1, 1, 0, 0, 0, 0, 0, 0, 0, 0, 0, 0, 0, 0, 0, 0, 0, 0, 0, 0, 0, 1, 0, 1, 1, 0, 0, 0, 1, 0, 0, 1, 0, 0, 1, 0, 0, 0, 0, 0, 1, 0, 1, 0, 0, 1, 0, 0, 0, 0, 0, 0, 0, 0, 1, 0, 0, 0, 1, 0, 1, 0, 0, 0, 0, 0, 1, 1, 1, 0, 1, 0, 0, 0, 0, 0, 0, 0, 0, 0, 0, 1, 0, 0, 0, 1, 1, 1, 0, 0, 1, 0, 0, 0, 1, 1, 0, 0, 1, 0, 0, 1, 1, 1, 1, 0, 1, 0, 0, 0, 0, 0, 0, 0, 1, 0, 0, 0, 1, 0, 0, 0, 0, 1, 0, 0, 0, 1, 1, 1, 1, 0, 0, 1, 0, 0, 0, 0, 1, 0, 0, 0, 0, 1, 1, 0, 0, 0, 0, 0, 0, 0, 1, 0, 1, 0, 0, 0, 0, 0, 0, 0, 1, 0, 0, 0, 0, 1, 1, 0, 0, 1, 1, 0, 1, 1, 0, 0, 0, 0, 0, 0, 0, 0, 1, 1, 0, 0, 1, 0, 0, 0, 0, 0, 0, 0, 0, 0, 1, 0, 0, 0, 1, 1, 0, 1, 0, 0, 1, 1, 1, 0, 0, 0, 0, 0, 0, 0, 0, 0, 1, 0, 0, 0, 1, 1, 0, 1, 0, 0, 0, 0, 0, 0, 0, 0, 1, 0, 0, 0, 1, 1, 1, 0, 0, 1, 0, 0, 0, 0, 1, 1, 0, 0, 0, 0, 0, 1, 0, 1, 0, 1, 0, 0, 0, 1, 0, 0, 0, 1, 0, 1, 0, 0, 0, 1, 1, 0, 0, 0, 0, 0, 0, 1, 0, 0, 1, 0, 0, 1, 1, 0, 0, 0, 0, 0, 0, 1, 0, 0, 0, 0, 1, 0, 0, 1, 1, 0, 1, 0, 0, 1, 0, 0, 0, 0, 1, 0, 1, 0, 0, 1, 1, 0, 0, 0, 1, 0, 0, 0, 0, 0, 1, 0, 0, 1, 0, 0, 0, 1, 1, 1, 0, 0, 0, 0, 0, 0, 0, 0, 0, 0, 0, 0, 1, 1, 1, 0, 0, 1, 0, 0, 1, 1, 0, 0, 0, 1, 0, 1, 0, 0, 1, 1, 0, 1, 0, 1, 0, 1, 0, 0, 0, 0, 0, 0, 1, 0, 0, 0, 0, 0, 0, 0, 0, 0, 0, 0, 0, 0, 0, 0, 1, 0, 1, 0, 0, 1, 0, 0, 0, 0, 0, 0, 0, 0, 0, 0, 0, 0, 1, 0, 0, 1, 0, 0, 0, 0, 1, 0, 0, 0, 0, 0, 1, 0, 0, 1, 0, 0, 1, 0, 1, 0, 1, 0, 0, 0, 0, 1, 0, 0, 0, 0, 0, 0, 0, 0, 1, 1, 0, 1, 0, 1, 1, 0, 0, 0, 0, 1, 0, 0, 1, 0, 0, 0, 0, 0, 0, 0, 1, 0, 0, 0, 0, 0, 1, 0, 0, 1, 0, 0, 0, 0, 0, 1, 0, 0, 0, 1, 0, 0, 0, 0, 1, 0, 0, 1, 0, 0, 1, 0, 0, 1, 1, 0, 0, 0, 0, 0, 1, 1, 0, 0, 0, 1, 0, 0, 1, 0, 0, 0, 0, 0, 0, 1, 0, 0, 0, 0, 0, 0, 0, 0, 1, 0, 0, 0, 0, 0, 0, 0, 1, 0, 0, 0, 1, 0, 1, 0, 0, 1, 0, 0, 1, 1, 0, 0, 0, 1, 0, 0, 0, 1, 0, 0, 0, 0, 0, 0, 0, 0, 0, 1, 1, 1, 0, 0, 1, 1, 0, 0, 0, 1, 1, 1, 0, 0, 0, 0, 0, 0, 0, 1, 1, 0, 0, 0, 0, 0, 1, 0, 1, 1, 0, 0, 0, 0, 0, 0, 1, 0, 0, 1, 0, 0, 0, 0, 0, 0, 0, 0, 1, 0, 1, 0, 0, 0, 0, 0, 0, 0, 0, 1, 0, 1]\n"
     ]
    }
   ],
   "source": [
    "print(y_cnn)"
   ]
  },
  {
   "cell_type": "markdown",
   "metadata": {
    "id": "QfNQrul-yH2i"
   },
   "source": [
    "## create submission file"
   ]
  },
  {
   "cell_type": "code",
   "execution_count": 56,
   "metadata": {
    "colab": {
     "base_uri": "https://localhost:8080/"
    },
    "id": "H3geKsbM6eUc",
    "outputId": "e418c259-d55c-47ea-d94b-47b9a32641b4"
   },
   "outputs": [
    {
     "name": "stdout",
     "output_type": "stream",
     "text": [
      "CSV file created successfully!\n"
     ]
    }
   ],
   "source": [
    "import csv\n",
    "filename = \"submission_knn_0.3_42_6_minmax_distance_auto_1_1_manhattan_selection_950.csv\"\n",
    "with open(filename, mode='w', newline='') as file:\n",
    "    writer = csv.writer(file)\n",
    "    writer.writerow([\"id\", \"labels\"])  # Write the header row\n",
    "    for idx, item in enumerate(y_knn_test, start=1):\n",
    "        writer.writerow([idx, item])  # Write each row with ID and array item\n",
    "    print(\"CSV file created successfully!\")\n"
   ]
  }
 ],
 "metadata": {
  "colab": {
   "collapsed_sections": [
    "1U5mggezyNEJ",
    "iSO3uKZyOnAS",
    "aXRDz40z8QFW",
    "Y-n_s8tVQRz4",
    "aMUO8tuqx7QG",
    "t4EVfd5Shn4P",
    "oKxGVhwO_4Zu",
    "eKbEw3Yrh1gi",
    "_luGdNhKjWPy"
   ],
   "gpuType": "A100",
   "provenance": []
  },
  "kernelspec": {
   "display_name": "Python 3 (ipykernel)",
   "language": "python",
   "name": "python3"
  },
  "language_info": {
   "codemirror_mode": {
    "name": "ipython",
    "version": 3
   },
   "file_extension": ".py",
   "mimetype": "text/x-python",
   "name": "python",
   "nbconvert_exporter": "python",
   "pygments_lexer": "ipython3",
   "version": "3.9.13"
  }
 },
 "nbformat": 4,
 "nbformat_minor": 1
}
